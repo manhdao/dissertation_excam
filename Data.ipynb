{
 "cells": [
  {
   "cell_type": "code",
   "execution_count": 1,
   "metadata": {
    "collapsed": false
   },
   "outputs": [],
   "source": [
    "import json\n",
    "import pandas as pd\n",
    "import datetime\n",
    "import numpy as np\n",
    "from pycountry_convert import convert_country_alpha2_to_continent\n",
    "from data_handling import utc_convert\n",
    "import matplotlib.dates as mdates\n",
    "import scipy\n",
    "\n",
    "import seaborn as sns\n",
    "import matplotlib.pyplot as plt\n",
    "%matplotlib inline  \n",
    "\n",
    "pd.options.display.max_colwidth = 200"
   ]
  },
  {
   "cell_type": "code",
   "execution_count": null,
   "metadata": {
    "collapsed": true
   },
   "outputs": [],
   "source": [
    "# CLustering\n",
    "from sklearn.decomposition import LatentDirichletAllocation\n",
    "from sklearn.cluster import DBSCAN\n",
    "from sklearn.preprocessing import StandardScaler, RobustScaler"
   ]
  },
  {
   "cell_type": "markdown",
   "metadata": {},
   "source": [
    "# Prep data"
   ]
  },
  {
   "cell_type": "code",
   "execution_count": 4,
   "metadata": {
    "collapsed": false
   },
   "outputs": [],
   "source": [
    "from marvin_data_prep import load_data, prepare_data, separate_os"
   ]
  },
  {
   "cell_type": "code",
   "execution_count": 2,
   "metadata": {
    "collapsed": false
   },
   "outputs": [],
   "source": [
    "#plot and data mining\n",
    "from marvin_auxiliary_functions import make_screen_vector,plot_time_vs_screen_vs_interaction"
   ]
  },
  {
   "cell_type": "code",
   "execution_count": 5,
   "metadata": {
    "collapsed": false
   },
   "outputs": [
    {
     "name": "stdout",
     "output_type": "stream",
     "text": [
      "5552\n"
     ]
    }
   ],
   "source": [
    "df = load_data('anonymisedapp', 50)\n",
    "df = prepare_data(df, 'anonymisedapp')\n",
    "df = separate_os(df)\n",
    "print(len(df))"
   ]
  },
  {
   "cell_type": "code",
   "execution_count": 4,
   "metadata": {
    "collapsed": false
   },
   "outputs": [
    {
     "data": {
      "text/html": [
       "<div>\n",
       "<table border=\"1\" class=\"dataframe\">\n",
       "  <thead>\n",
       "    <tr style=\"text-align: right;\">\n",
       "      <th></th>\n",
       "      <th>app_id</th>\n",
       "      <th>app_version</th>\n",
       "      <th>company_name</th>\n",
       "      <th>crash_log</th>\n",
       "      <th>device_class</th>\n",
       "      <th>device_model_name</th>\n",
       "      <th>device_id</th>\n",
       "      <th>device_name</th>\n",
       "      <th>device_run</th>\n",
       "      <th>device_run_name</th>\n",
       "      <th>...</th>\n",
       "      <th>time_formatted</th>\n",
       "      <th>country_name</th>\n",
       "      <th>country_code</th>\n",
       "      <th>weekday</th>\n",
       "      <th>continent</th>\n",
       "      <th>screens_visited</th>\n",
       "      <th>screen_number</th>\n",
       "      <th>time_per_screen</th>\n",
       "      <th>interaction_information</th>\n",
       "      <th>interaction_number</th>\n",
       "    </tr>\n",
       "  </thead>\n",
       "  <tbody>\n",
       "    <tr>\n",
       "      <th>1</th>\n",
       "      <td>588f2a6aff6059ffff8b45b1</td>\n",
       "      <td>1.2 (1701301632)</td>\n",
       "      <td>Apple</td>\n",
       "      <td>false</td>\n",
       "      <td>iPhone 7</td>\n",
       "      <td>iPhone 7</td>\n",
       "      <td>6c705f66cbf05fe658f46f286aea07f5</td>\n",
       "      <td>6c705f66cbf05fe658f46f286aea07f5</td>\n",
       "      <td>8</td>\n",
       "      <td>Session 13</td>\n",
       "      <td>...</td>\n",
       "      <td>2017-01-30 16:47:13</td>\n",
       "      <td>Denmark</td>\n",
       "      <td>dk</td>\n",
       "      <td>0</td>\n",
       "      <td>Europe</td>\n",
       "      <td>[UploadViewController, PhotoStreamViewController, PurchaseViewController, CouponModalViewController, UIAlertController]</td>\n",
       "      <td>5</td>\n",
       "      <td>22.800000</td>\n",
       "      <td>[{'interaction_count': 3, '_screen': 'UploadViewController', 'interaction_time': [0.575350999832, 0.577283024788, 0.650696992874], 'view_time': 1.1993860006332, 'start_time': 0}, {'interact...</td>\n",
       "      <td>35</td>\n",
       "    </tr>\n",
       "    <tr>\n",
       "      <th>2</th>\n",
       "      <td>588f2a6aff6059ffff8b45b1</td>\n",
       "      <td>1.2 (1701301632)</td>\n",
       "      <td>Apple</td>\n",
       "      <td>false</td>\n",
       "      <td>iPhone 7</td>\n",
       "      <td>iPhone 7</td>\n",
       "      <td>6c705f66cbf05fe658f46f286aea07f5</td>\n",
       "      <td>6c705f66cbf05fe658f46f286aea07f5</td>\n",
       "      <td>9</td>\n",
       "      <td>Session 14</td>\n",
       "      <td>...</td>\n",
       "      <td>2017-01-30 16:49:31</td>\n",
       "      <td>Denmark</td>\n",
       "      <td>dk</td>\n",
       "      <td>0</td>\n",
       "      <td>Europe</td>\n",
       "      <td>[UIAlertController, EventPageViewController, PhotoStreamViewController, EventPageViewController, UIAlertController]</td>\n",
       "      <td>5</td>\n",
       "      <td>21.800000</td>\n",
       "      <td>[{'interaction_count': 11, '_screen': 'UIAlertController', 'interaction_time': [1.88326698542, 1.88436001539, 1.94978702068, 2.91884100437, 2.99987101555, 10.4188929796, 10.5172550082, 11.16986596...</td>\n",
       "      <td>32</td>\n",
       "    </tr>\n",
       "    <tr>\n",
       "      <th>3</th>\n",
       "      <td>588f2a6aff6059ffff8b45b1</td>\n",
       "      <td>1.2 (1701301632)</td>\n",
       "      <td>Apple</td>\n",
       "      <td>false</td>\n",
       "      <td>iPhone 7</td>\n",
       "      <td>iPhone 7</td>\n",
       "      <td>6c705f66cbf05fe658f46f286aea07f5</td>\n",
       "      <td>6c705f66cbf05fe658f46f286aea07f5</td>\n",
       "      <td>10</td>\n",
       "      <td>Session 15</td>\n",
       "      <td>...</td>\n",
       "      <td>2017-01-30 16:51:32</td>\n",
       "      <td>Denmark</td>\n",
       "      <td>dk</td>\n",
       "      <td>0</td>\n",
       "      <td>Europe</td>\n",
       "      <td>[UIAlertController, SupportViewController, MFMailComposeRemoteViewController]</td>\n",
       "      <td>3</td>\n",
       "      <td>25.333333</td>\n",
       "      <td>[{'interaction_count': 5, '_screen': 'UIAlertController', 'interaction_time': [0.104194998741, 0.104668974876, 0.170804977417, 1.35482496023, 1.43797898293], 'view_time': 1.4541319608688, 'start_t...</td>\n",
       "      <td>8</td>\n",
       "    </tr>\n",
       "  </tbody>\n",
       "</table>\n",
       "<p>3 rows × 44 columns</p>\n",
       "</div>"
      ],
      "text/plain": [
       "                     app_id       app_version company_name crash_log  \\\n",
       "1  588f2a6aff6059ffff8b45b1  1.2 (1701301632)        Apple     false   \n",
       "2  588f2a6aff6059ffff8b45b1  1.2 (1701301632)        Apple     false   \n",
       "3  588f2a6aff6059ffff8b45b1  1.2 (1701301632)        Apple     false   \n",
       "\n",
       "  device_class device_model_name                         device_id  \\\n",
       "1     iPhone 7          iPhone 7  6c705f66cbf05fe658f46f286aea07f5   \n",
       "2     iPhone 7          iPhone 7  6c705f66cbf05fe658f46f286aea07f5   \n",
       "3     iPhone 7          iPhone 7  6c705f66cbf05fe658f46f286aea07f5   \n",
       "\n",
       "                        device_name  device_run device_run_name  \\\n",
       "1  6c705f66cbf05fe658f46f286aea07f5           8      Session 13   \n",
       "2  6c705f66cbf05fe658f46f286aea07f5           9      Session 14   \n",
       "3  6c705f66cbf05fe658f46f286aea07f5          10      Session 15   \n",
       "\n",
       "         ...              time_formatted country_name country_code weekday  \\\n",
       "1        ...         2017-01-30 16:47:13      Denmark           dk       0   \n",
       "2        ...         2017-01-30 16:49:31      Denmark           dk       0   \n",
       "3        ...         2017-01-30 16:51:32      Denmark           dk       0   \n",
       "\n",
       "  continent  \\\n",
       "1    Europe   \n",
       "2    Europe   \n",
       "3    Europe   \n",
       "\n",
       "                                                                                                                                       screens_visited  \\\n",
       "1  [UploadViewController, PhotoStreamViewController, PurchaseViewController, CouponModalViewController, UIAlertController]   \n",
       "2             [UIAlertController, EventPageViewController, PhotoStreamViewController, EventPageViewController, UIAlertController]   \n",
       "3                                                                 [UIAlertController, SupportViewController, MFMailComposeRemoteViewController]   \n",
       "\n",
       "   screen_number  time_per_screen  \\\n",
       "1              5        22.800000   \n",
       "2              5        21.800000   \n",
       "3              3        25.333333   \n",
       "\n",
       "                                                                                                                                                                                   interaction_information  \\\n",
       "1  [{'interaction_count': 3, '_screen': 'UploadViewController', 'interaction_time': [0.575350999832, 0.577283024788, 0.650696992874], 'view_time': 1.1993860006332, 'start_time': 0}, {'interact...   \n",
       "2  [{'interaction_count': 11, '_screen': 'UIAlertController', 'interaction_time': [1.88326698542, 1.88436001539, 1.94978702068, 2.91884100437, 2.99987101555, 10.4188929796, 10.5172550082, 11.16986596...   \n",
       "3  [{'interaction_count': 5, '_screen': 'UIAlertController', 'interaction_time': [0.104194998741, 0.104668974876, 0.170804977417, 1.35482496023, 1.43797898293], 'view_time': 1.4541319608688, 'start_t...   \n",
       "\n",
       "  interaction_number  \n",
       "1                 35  \n",
       "2                 32  \n",
       "3                  8  \n",
       "\n",
       "[3 rows x 44 columns]"
      ]
     },
     "execution_count": 4,
     "metadata": {},
     "output_type": "execute_result"
    }
   ],
   "source": [
    "df.head(3)"
   ]
  },
  {
   "cell_type": "code",
   "execution_count": 5,
   "metadata": {
    "collapsed": false
   },
   "outputs": [
    {
     "data": {
      "text/html": [
       "<div>\n",
       "<table border=\"1\" class=\"dataframe\">\n",
       "  <thead>\n",
       "    <tr style=\"text-align: right;\">\n",
       "      <th></th>\n",
       "      <th>device_class</th>\n",
       "      <th>device_model_name</th>\n",
       "      <th>device_id</th>\n",
       "      <th>device_name</th>\n",
       "      <th>device_run</th>\n",
       "      <th>device_run_name</th>\n",
       "      <th>device_run_notes</th>\n",
       "      <th>device_type</th>\n",
       "    </tr>\n",
       "  </thead>\n",
       "  <tbody>\n",
       "    <tr>\n",
       "      <th>1</th>\n",
       "      <td>iPhone 7</td>\n",
       "      <td>iPhone 7</td>\n",
       "      <td>6c705f66cbf05fe658f46f286aea07f5</td>\n",
       "      <td>6c705f66cbf05fe658f46f286aea07f5</td>\n",
       "      <td>8</td>\n",
       "      <td>Session 13</td>\n",
       "      <td></td>\n",
       "      <td>iphone</td>\n",
       "    </tr>\n",
       "    <tr>\n",
       "      <th>2</th>\n",
       "      <td>iPhone 7</td>\n",
       "      <td>iPhone 7</td>\n",
       "      <td>6c705f66cbf05fe658f46f286aea07f5</td>\n",
       "      <td>6c705f66cbf05fe658f46f286aea07f5</td>\n",
       "      <td>9</td>\n",
       "      <td>Session 14</td>\n",
       "      <td></td>\n",
       "      <td>iphone</td>\n",
       "    </tr>\n",
       "    <tr>\n",
       "      <th>3</th>\n",
       "      <td>iPhone 7</td>\n",
       "      <td>iPhone 7</td>\n",
       "      <td>6c705f66cbf05fe658f46f286aea07f5</td>\n",
       "      <td>6c705f66cbf05fe658f46f286aea07f5</td>\n",
       "      <td>10</td>\n",
       "      <td>Session 15</td>\n",
       "      <td></td>\n",
       "      <td>iphone</td>\n",
       "    </tr>\n",
       "    <tr>\n",
       "      <th>4</th>\n",
       "      <td>iPhone 7</td>\n",
       "      <td>iPhone 7</td>\n",
       "      <td>6c705f66cbf05fe658f46f286aea07f5</td>\n",
       "      <td>6c705f66cbf05fe658f46f286aea07f5</td>\n",
       "      <td>11</td>\n",
       "      <td>Session 16</td>\n",
       "      <td></td>\n",
       "      <td>iphone</td>\n",
       "    </tr>\n",
       "    <tr>\n",
       "      <th>5</th>\n",
       "      <td>iPhone 7</td>\n",
       "      <td>iPhone 7</td>\n",
       "      <td>6c705f66cbf05fe658f46f286aea07f5</td>\n",
       "      <td>6c705f66cbf05fe658f46f286aea07f5</td>\n",
       "      <td>12</td>\n",
       "      <td>Session 17</td>\n",
       "      <td></td>\n",
       "      <td>iphone</td>\n",
       "    </tr>\n",
       "  </tbody>\n",
       "</table>\n",
       "</div>"
      ],
      "text/plain": [
       "  device_class device_model_name                         device_id  \\\n",
       "1     iPhone 7          iPhone 7  6c705f66cbf05fe658f46f286aea07f5   \n",
       "2     iPhone 7          iPhone 7  6c705f66cbf05fe658f46f286aea07f5   \n",
       "3     iPhone 7          iPhone 7  6c705f66cbf05fe658f46f286aea07f5   \n",
       "4     iPhone 7          iPhone 7  6c705f66cbf05fe658f46f286aea07f5   \n",
       "5     iPhone 7          iPhone 7  6c705f66cbf05fe658f46f286aea07f5   \n",
       "\n",
       "                        device_name  device_run device_run_name  \\\n",
       "1  6c705f66cbf05fe658f46f286aea07f5           8      Session 13   \n",
       "2  6c705f66cbf05fe658f46f286aea07f5           9      Session 14   \n",
       "3  6c705f66cbf05fe658f46f286aea07f5          10      Session 15   \n",
       "4  6c705f66cbf05fe658f46f286aea07f5          11      Session 16   \n",
       "5  6c705f66cbf05fe658f46f286aea07f5          12      Session 17   \n",
       "\n",
       "  device_run_notes device_type  \n",
       "1                       iphone  \n",
       "2                       iphone  \n",
       "3                       iphone  \n",
       "4                       iphone  \n",
       "5                       iphone  "
      ]
     },
     "execution_count": 5,
     "metadata": {},
     "output_type": "execute_result"
    }
   ],
   "source": [
    "df[df.columns[pd.Series(df.columns).str.startswith('device')]].head()"
   ]
  },
  {
   "cell_type": "code",
   "execution_count": 6,
   "metadata": {
    "collapsed": false
   },
   "outputs": [
    {
     "data": {
      "text/html": [
       "<div>\n",
       "<table border=\"1\" class=\"dataframe\">\n",
       "  <thead>\n",
       "    <tr style=\"text-align: right;\">\n",
       "      <th></th>\n",
       "      <th>os_lname</th>\n",
       "      <th>os_name</th>\n",
       "      <th>os_name_float</th>\n",
       "    </tr>\n",
       "  </thead>\n",
       "  <tbody>\n",
       "    <tr>\n",
       "      <th>1</th>\n",
       "      <td>10.1.1</td>\n",
       "      <td>10.1.1</td>\n",
       "      <td>10.1</td>\n",
       "    </tr>\n",
       "    <tr>\n",
       "      <th>2</th>\n",
       "      <td>10.1.1</td>\n",
       "      <td>10.1.1</td>\n",
       "      <td>10.1</td>\n",
       "    </tr>\n",
       "    <tr>\n",
       "      <th>3</th>\n",
       "      <td>10.1.1</td>\n",
       "      <td>10.1.1</td>\n",
       "      <td>10.1</td>\n",
       "    </tr>\n",
       "    <tr>\n",
       "      <th>4</th>\n",
       "      <td>10.1.1</td>\n",
       "      <td>10.1.1</td>\n",
       "      <td>10.1</td>\n",
       "    </tr>\n",
       "    <tr>\n",
       "      <th>5</th>\n",
       "      <td>10.1.1</td>\n",
       "      <td>10.1.1</td>\n",
       "      <td>10.1</td>\n",
       "    </tr>\n",
       "  </tbody>\n",
       "</table>\n",
       "</div>"
      ],
      "text/plain": [
       "  os_lname os_name  os_name_float\n",
       "1   10.1.1  10.1.1           10.1\n",
       "2   10.1.1  10.1.1           10.1\n",
       "3   10.1.1  10.1.1           10.1\n",
       "4   10.1.1  10.1.1           10.1\n",
       "5   10.1.1  10.1.1           10.1"
      ]
     },
     "execution_count": 6,
     "metadata": {},
     "output_type": "execute_result"
    }
   ],
   "source": [
    "df[df.columns[pd.Series(df.columns).str.startswith('os')]].head()"
   ]
  },
  {
   "cell_type": "code",
   "execution_count": 6,
   "metadata": {
    "collapsed": false
   },
   "outputs": [
    {
     "data": {
      "text/plain": [
       "1.3 (1701312221)    4695\n",
       "1.4 (1702161135)     692\n",
       "1.2 (1701301632)      52\n",
       "1.2 (1701311441)      38\n",
       "1.3 (1702152310)      38\n",
       "1.3 (1702131651)      20\n",
       "1.3 (1702141609)      10\n",
       "1.3 (1701311441)       6\n",
       "1.4 (1702152310)       1\n",
       "Name: app_version, dtype: int64"
      ]
     },
     "execution_count": 6,
     "metadata": {},
     "output_type": "execute_result"
    }
   ],
   "source": [
    "df.app_version.value_counts()"
   ]
  },
  {
   "cell_type": "markdown",
   "metadata": {},
   "source": [
    "# Screens"
   ]
  },
  {
   "cell_type": "code",
   "execution_count": 5,
   "metadata": {
    "collapsed": false
   },
   "outputs": [
    {
     "data": {
      "text/plain": [
       "Denmark          356\n",
       "Australia        249\n",
       "United States    134\n",
       "Germany          129\n",
       "Sweden            86\n",
       "Netherlands       41\n",
       "Greece            28\n",
       "Switzerland       14\n",
       "Austria            9\n",
       "Unknown            9\n",
       "Latvia             2\n",
       "Russia             2\n",
       "Mexico             1\n",
       "Norway             1\n",
       "India              1\n",
       "Name: country_name, dtype: int64"
      ]
     },
     "execution_count": 5,
     "metadata": {},
     "output_type": "execute_result"
    }
   ],
   "source": [
    "df['country_name'].value_counts()"
   ]
  },
  {
   "cell_type": "code",
   "execution_count": 7,
   "metadata": {
    "collapsed": false
   },
   "outputs": [
    {
     "name": "stdout",
     "output_type": "stream",
     "text": [
      "79.75517890772127 %\n"
     ]
    }
   ],
   "source": [
    "print(len(df[df.total_time < 120])/float(len(df)) * 100,'%')"
   ]
  },
  {
   "cell_type": "markdown",
   "metadata": {},
   "source": [
    "Conclusion: Total_time is overwhelmingly under 2 minutes"
   ]
  },
  {
   "cell_type": "markdown",
   "metadata": {},
   "source": [
    "## Summary Statisitics of screen_number"
   ]
  },
  {
   "cell_type": "code",
   "execution_count": 5,
   "metadata": {
    "collapsed": false
   },
   "outputs": [
    {
     "data": {
      "text/plain": [
       "count    5552.000000\n",
       "mean        5.011167\n",
       "std         5.995514\n",
       "min         1.000000\n",
       "25%         1.000000\n",
       "50%         3.000000\n",
       "75%         6.000000\n",
       "max        70.000000\n",
       "Name: screen_number, dtype: float64"
      ]
     },
     "execution_count": 5,
     "metadata": {},
     "output_type": "execute_result"
    }
   ],
   "source": [
    "df.screen_number.describe()"
   ]
  },
  {
   "cell_type": "code",
   "execution_count": 7,
   "metadata": {
    "collapsed": false
   },
   "outputs": [
    {
     "data": {
      "text/plain": [
       "11.0"
      ]
     },
     "execution_count": 7,
     "metadata": {},
     "output_type": "execute_result"
    }
   ],
   "source": [
    "np.percentile(df.screen_number, 90)"
   ]
  },
  {
   "cell_type": "code",
   "execution_count": 12,
   "metadata": {
    "collapsed": false
   },
   "outputs": [
    {
     "name": "stderr",
     "output_type": "stream",
     "text": [
      "F:\\Python\\lib\\site-packages\\statsmodels\\nonparametric\\kdetools.py:20: VisibleDeprecationWarning: using a non-integer number instead of an integer will result in an error in the future\n",
      "  y = X[:m/2+1] + np.r_[0,X[m/2+1:],0]*1j\n"
     ]
    },
    {
     "data": {
      "text/plain": [
       "<matplotlib.axes._subplots.AxesSubplot at 0x8913d90>"
      ]
     },
     "execution_count": 12,
     "metadata": {},
     "output_type": "execute_result"
    },
    {
     "data": {
      "image/png": "[encoded data removed]",
      "text/plain": [
       "<matplotlib.figure.Figure at 0x88cd9f0>"
      ]
     },
     "metadata": {},
     "output_type": "display_data"
    }
   ],
   "source": [
    "sns.distplot(df.screen_number)"
   ]
  },
  {
   "cell_type": "code",
   "execution_count": 13,
   "metadata": {
    "collapsed": false
   },
   "outputs": [
    {
     "data": {
      "text/plain": [
       "<matplotlib.axes._subplots.AxesSubplot at 0x8972d10>"
      ]
     },
     "execution_count": 13,
     "metadata": {},
     "output_type": "execute_result"
    },
    {
     "data": {
      "image/png": "[encoded data removed]",
      "text/plain": [
       "<matplotlib.figure.Figure at 0x88f8910>"
      ]
     },
     "metadata": {},
     "output_type": "display_data"
    }
   ],
   "source": [
    "df.plot('time_stamp','screen_number')"
   ]
  },
  {
   "cell_type": "code",
   "execution_count": 14,
   "metadata": {
    "collapsed": true
   },
   "outputs": [],
   "source": [
    "df_day = df.groupby('ymd').sum()"
   ]
  },
  {
   "cell_type": "code",
   "execution_count": 15,
   "metadata": {
    "collapsed": false
   },
   "outputs": [
    {
     "data": {
      "text/html": [
       "<div>\n",
       "<table border=\"1\" class=\"dataframe\">\n",
       "  <thead>\n",
       "    <tr style=\"text-align: right;\">\n",
       "      <th></th>\n",
       "      <th>device_run</th>\n",
       "      <th>height</th>\n",
       "      <th>is_crash</th>\n",
       "      <th>is_favorite</th>\n",
       "      <th>os_name_float</th>\n",
       "      <th>resolution</th>\n",
       "      <th>time_stamp</th>\n",
       "      <th>total_time</th>\n",
       "      <th>unplayed</th>\n",
       "      <th>width</th>\n",
       "      <th>weekday</th>\n",
       "      <th>screen_number</th>\n",
       "      <th>time_per_screen</th>\n",
       "      <th>first_time_stage</th>\n",
       "      <th>photo_viewer_stage</th>\n",
       "      <th>active_use_stage</th>\n",
       "      <th>beneficial_action_stage</th>\n",
       "    </tr>\n",
       "    <tr>\n",
       "      <th>ymd</th>\n",
       "      <th></th>\n",
       "      <th></th>\n",
       "      <th></th>\n",
       "      <th></th>\n",
       "      <th></th>\n",
       "      <th></th>\n",
       "      <th></th>\n",
       "      <th></th>\n",
       "      <th></th>\n",
       "      <th></th>\n",
       "      <th></th>\n",
       "      <th></th>\n",
       "      <th></th>\n",
       "      <th></th>\n",
       "      <th></th>\n",
       "      <th></th>\n",
       "      <th></th>\n",
       "    </tr>\n",
       "  </thead>\n",
       "  <tbody>\n",
       "    <tr>\n",
       "      <th>2017-01-30</th>\n",
       "      <td>355</td>\n",
       "      <td>22678</td>\n",
       "      <td>0</td>\n",
       "      <td>0</td>\n",
       "      <td>344.7</td>\n",
       "      <td>11084</td>\n",
       "      <td>50517298863</td>\n",
       "      <td>3592</td>\n",
       "      <td>29</td>\n",
       "      <td>12750</td>\n",
       "      <td>0</td>\n",
       "      <td>153</td>\n",
       "      <td>1097.847261</td>\n",
       "      <td>1</td>\n",
       "      <td>33</td>\n",
       "      <td>13</td>\n",
       "      <td>7</td>\n",
       "    </tr>\n",
       "    <tr>\n",
       "      <th>2017-01-31</th>\n",
       "      <td>691</td>\n",
       "      <td>92187</td>\n",
       "      <td>0</td>\n",
       "      <td>0</td>\n",
       "      <td>793.9</td>\n",
       "      <td>32280</td>\n",
       "      <td>133728636746</td>\n",
       "      <td>25322</td>\n",
       "      <td>75</td>\n",
       "      <td>52935</td>\n",
       "      <td>90</td>\n",
       "      <td>381</td>\n",
       "      <td>17329.386995</td>\n",
       "      <td>3</td>\n",
       "      <td>48</td>\n",
       "      <td>44</td>\n",
       "      <td>28</td>\n",
       "    </tr>\n",
       "    <tr>\n",
       "      <th>2017-02-01</th>\n",
       "      <td>1248</td>\n",
       "      <td>260750</td>\n",
       "      <td>1</td>\n",
       "      <td>0</td>\n",
       "      <td>2759.1</td>\n",
       "      <td>107297</td>\n",
       "      <td>436874264521</td>\n",
       "      <td>43863</td>\n",
       "      <td>244</td>\n",
       "      <td>147698</td>\n",
       "      <td>588</td>\n",
       "      <td>1477</td>\n",
       "      <td>17252.309822</td>\n",
       "      <td>85</td>\n",
       "      <td>88</td>\n",
       "      <td>91</td>\n",
       "      <td>100</td>\n",
       "    </tr>\n",
       "    <tr>\n",
       "      <th>2017-02-02</th>\n",
       "      <td>285</td>\n",
       "      <td>161889</td>\n",
       "      <td>4</td>\n",
       "      <td>0</td>\n",
       "      <td>866.3</td>\n",
       "      <td>49641</td>\n",
       "      <td>163461718721</td>\n",
       "      <td>10080</td>\n",
       "      <td>105</td>\n",
       "      <td>92027</td>\n",
       "      <td>330</td>\n",
       "      <td>369</td>\n",
       "      <td>4115.914672</td>\n",
       "      <td>16</td>\n",
       "      <td>9</td>\n",
       "      <td>4</td>\n",
       "      <td>38</td>\n",
       "    </tr>\n",
       "  </tbody>\n",
       "</table>\n",
       "</div>"
      ],
      "text/plain": [
       "            device_run  height  is_crash  is_favorite  os_name_float  \\\n",
       "ymd                                                                    \n",
       "2017-01-30         355   22678         0            0          344.7   \n",
       "2017-01-31         691   92187         0            0          793.9   \n",
       "2017-02-01        1248  260750         1            0         2759.1   \n",
       "2017-02-02         285  161889         4            0          866.3   \n",
       "\n",
       "            resolution    time_stamp  total_time  unplayed   width  weekday  \\\n",
       "ymd                                                                           \n",
       "2017-01-30       11084   50517298863        3592        29   12750        0   \n",
       "2017-01-31       32280  133728636746       25322        75   52935       90   \n",
       "2017-02-01      107297  436874264521       43863       244  147698      588   \n",
       "2017-02-02       49641  163461718721       10080       105   92027      330   \n",
       "\n",
       "            screen_number  time_per_screen  first_time_stage  \\\n",
       "ymd                                                            \n",
       "2017-01-30            153      1097.847261                 1   \n",
       "2017-01-31            381     17329.386995                 3   \n",
       "2017-02-01           1477     17252.309822                85   \n",
       "2017-02-02            369      4115.914672                16   \n",
       "\n",
       "            photo_viewer_stage  active_use_stage  beneficial_action_stage  \n",
       "ymd                                                                        \n",
       "2017-01-30                  33                13                        7  \n",
       "2017-01-31                  48                44                       28  \n",
       "2017-02-01                  88                91                      100  \n",
       "2017-02-02                   9                 4                       38  "
      ]
     },
     "execution_count": 15,
     "metadata": {},
     "output_type": "execute_result"
    }
   ],
   "source": [
    "df_day"
   ]
  },
  {
   "cell_type": "code",
   "execution_count": 16,
   "metadata": {
    "collapsed": false
   },
   "outputs": [
    {
     "data": {
      "text/plain": [
       "<matplotlib.axes._subplots.AxesSubplot at 0x8a49270>"
      ]
     },
     "execution_count": 16,
     "metadata": {},
     "output_type": "execute_result"
    },
    {
     "data": {
      "image/png": "[encoded data removed]",
      "text/plain": [
       "<matplotlib.figure.Figure at 0x8a388f0>"
      ]
     },
     "metadata": {},
     "output_type": "display_data"
    }
   ],
   "source": [
    "df_day.plot(y='screen_number', use_index = True)"
   ]
  },
  {
   "cell_type": "code",
   "execution_count": 17,
   "metadata": {
    "collapsed": false
   },
   "outputs": [
    {
     "data": {
      "text/plain": [
       "<matplotlib.axes._subplots.AxesSubplot at 0x8c1e470>"
      ]
     },
     "execution_count": 17,
     "metadata": {},
     "output_type": "execute_result"
    },
    {
     "data": {
      "image/png": "[encoded data removed]",
      "text/plain": [
       "<matplotlib.figure.Figure at 0x8c1a290>"
      ]
     },
     "metadata": {},
     "output_type": "display_data"
    }
   ],
   "source": [
    "df_day_avg = df[['ymd','screen_number']].groupby('ymd').mean()\n",
    "df_day_avg.plot(y='screen_number', use_index = True, yticks = range(0,6,1))"
   ]
  },
  {
   "cell_type": "code",
   "execution_count": 18,
   "metadata": {
    "collapsed": true
   },
   "outputs": [],
   "source": [
    "dfs = df[['id','ymd','device_model_name','country_name','screen_number']]"
   ]
  },
  {
   "cell_type": "code",
   "execution_count": 19,
   "metadata": {
    "collapsed": false
   },
   "outputs": [
    {
     "data": {
      "text/plain": [
       "iPhone 7            124\n",
       "iPhone 6s           124\n",
       "iPhone 6             63\n",
       "iPhone 5s            30\n",
       "SM-G920I             16\n",
       "SM-G930F             13\n",
       "HTC One              12\n",
       "iPhone 7 Plus        12\n",
       "Nexus 5X             11\n",
       "SM-A500H             10\n",
       "iPhone 6SE           10\n",
       "Nexus 6               9\n",
       "SM-G930T              8\n",
       "iPhone 6s Plus        7\n",
       "VS986                 7\n",
       "SM-G550T2             7\n",
       "SM-A300Y              7\n",
       "iPhone 5c             6\n",
       "HTC Desire 626s       5\n",
       "SM-G920F              4\n",
       "SM-G935F              4\n",
       "SM-G900P              4\n",
       "Z981                  4\n",
       "iPhone 4s             3\n",
       "iPhone 6 Plus         3\n",
       "iPhone 5              3\n",
       "SM-G928I              3\n",
       "SCH-I435              2\n",
       "LGMS330               2\n",
       "SM-N920I              2\n",
       "SAMSUNG-SM-G935A      2\n",
       "Moto G (4)            1\n",
       "XT1254                1\n",
       "SM-G800F              1\n",
       "Pixel                 1\n",
       "SM-G900I              1\n",
       "LGL33L                1\n",
       "SM-G925F              1\n",
       "SM-A510F              1\n",
       "iPad Air 2            1\n",
       "D5803                 1\n",
       "SAMSUNG-SM-G925A      1\n",
       "Name: device_model_name, dtype: int64"
      ]
     },
     "execution_count": 19,
     "metadata": {},
     "output_type": "execute_result"
    }
   ],
   "source": [
    "dfs.device_model_name.value_counts()"
   ]
  },
  {
   "cell_type": "code",
   "execution_count": 20,
   "metadata": {
    "collapsed": false
   },
   "outputs": [
    {
     "data": {
      "text/html": [
       "<div>\n",
       "<table border=\"1\" class=\"dataframe\">\n",
       "  <thead>\n",
       "    <tr style=\"text-align: right;\">\n",
       "      <th></th>\n",
       "      <th></th>\n",
       "      <th>screen_number</th>\n",
       "    </tr>\n",
       "    <tr>\n",
       "      <th>country_name</th>\n",
       "      <th>device_model_name</th>\n",
       "      <th></th>\n",
       "    </tr>\n",
       "  </thead>\n",
       "  <tbody>\n",
       "    <tr>\n",
       "      <th rowspan=\"13\" valign=\"top\">Australia</th>\n",
       "      <th>SM-A300Y</th>\n",
       "      <td>1.857143</td>\n",
       "    </tr>\n",
       "    <tr>\n",
       "      <th>SM-G900I</th>\n",
       "      <td>2.000000</td>\n",
       "    </tr>\n",
       "    <tr>\n",
       "      <th>SM-G920I</th>\n",
       "      <td>1.812500</td>\n",
       "    </tr>\n",
       "    <tr>\n",
       "      <th>SM-G930F</th>\n",
       "      <td>1.375000</td>\n",
       "    </tr>\n",
       "    <tr>\n",
       "      <th>SM-G935F</th>\n",
       "      <td>3.000000</td>\n",
       "    </tr>\n",
       "    <tr>\n",
       "      <th>SM-N920I</th>\n",
       "      <td>1.500000</td>\n",
       "    </tr>\n",
       "    <tr>\n",
       "      <th>iPhone 5</th>\n",
       "      <td>6.000000</td>\n",
       "    </tr>\n",
       "    <tr>\n",
       "      <th>iPhone 5s</th>\n",
       "      <td>3.500000</td>\n",
       "    </tr>\n",
       "    <tr>\n",
       "      <th>iPhone 6</th>\n",
       "      <td>5.166667</td>\n",
       "    </tr>\n",
       "    <tr>\n",
       "      <th>iPhone 6s</th>\n",
       "      <td>4.357143</td>\n",
       "    </tr>\n",
       "    <tr>\n",
       "      <th>iPhone 6s Plus</th>\n",
       "      <td>5.000000</td>\n",
       "    </tr>\n",
       "    <tr>\n",
       "      <th>iPhone 7</th>\n",
       "      <td>5.833333</td>\n",
       "    </tr>\n",
       "    <tr>\n",
       "      <th>iPhone 7 Plus</th>\n",
       "      <td>19.500000</td>\n",
       "    </tr>\n",
       "    <tr>\n",
       "      <th>Austria</th>\n",
       "      <th>iPhone 6</th>\n",
       "      <td>4.666667</td>\n",
       "    </tr>\n",
       "    <tr>\n",
       "      <th rowspan=\"14\" valign=\"top\">Denmark</th>\n",
       "      <th>HTC One</th>\n",
       "      <td>2.500000</td>\n",
       "    </tr>\n",
       "    <tr>\n",
       "      <th>Nexus 5X</th>\n",
       "      <td>1.875000</td>\n",
       "    </tr>\n",
       "    <tr>\n",
       "      <th>Nexus 6</th>\n",
       "      <td>1.333333</td>\n",
       "    </tr>\n",
       "    <tr>\n",
       "      <th>SM-A500H</th>\n",
       "      <td>1.900000</td>\n",
       "    </tr>\n",
       "    <tr>\n",
       "      <th>SM-G925F</th>\n",
       "      <td>1.000000</td>\n",
       "    </tr>\n",
       "    <tr>\n",
       "      <th>iPhone 4s</th>\n",
       "      <td>2.000000</td>\n",
       "    </tr>\n",
       "    <tr>\n",
       "      <th>iPhone 5</th>\n",
       "      <td>4.000000</td>\n",
       "    </tr>\n",
       "    <tr>\n",
       "      <th>iPhone 5c</th>\n",
       "      <td>16.666667</td>\n",
       "    </tr>\n",
       "    <tr>\n",
       "      <th>iPhone 5s</th>\n",
       "      <td>4.277778</td>\n",
       "    </tr>\n",
       "    <tr>\n",
       "      <th>iPhone 6</th>\n",
       "      <td>5.520000</td>\n",
       "    </tr>\n",
       "    <tr>\n",
       "      <th>iPhone 6SE</th>\n",
       "      <td>4.800000</td>\n",
       "    </tr>\n",
       "    <tr>\n",
       "      <th>iPhone 6s</th>\n",
       "      <td>3.964912</td>\n",
       "    </tr>\n",
       "    <tr>\n",
       "      <th>iPhone 7</th>\n",
       "      <td>4.620253</td>\n",
       "    </tr>\n",
       "    <tr>\n",
       "      <th>iPhone 7 Plus</th>\n",
       "      <td>2.000000</td>\n",
       "    </tr>\n",
       "    <tr>\n",
       "      <th rowspan=\"2\" valign=\"top\">Germany</th>\n",
       "      <th>D5803</th>\n",
       "      <td>1.000000</td>\n",
       "    </tr>\n",
       "    <tr>\n",
       "      <th>SM-A510F</th>\n",
       "      <td>2.000000</td>\n",
       "    </tr>\n",
       "    <tr>\n",
       "      <th>...</th>\n",
       "      <th>...</th>\n",
       "      <td>...</td>\n",
       "    </tr>\n",
       "    <tr>\n",
       "      <th rowspan=\"2\" valign=\"top\">Netherlands</th>\n",
       "      <th>SM-G800F</th>\n",
       "      <td>5.000000</td>\n",
       "    </tr>\n",
       "    <tr>\n",
       "      <th>iPhone 7</th>\n",
       "      <td>5.375000</td>\n",
       "    </tr>\n",
       "    <tr>\n",
       "      <th>Norway</th>\n",
       "      <th>iPhone 6</th>\n",
       "      <td>1.000000</td>\n",
       "    </tr>\n",
       "    <tr>\n",
       "      <th rowspan=\"3\" valign=\"top\">Sweden</th>\n",
       "      <th>SM-G935F</th>\n",
       "      <td>1.000000</td>\n",
       "    </tr>\n",
       "    <tr>\n",
       "      <th>iPhone 6</th>\n",
       "      <td>7.000000</td>\n",
       "    </tr>\n",
       "    <tr>\n",
       "      <th>iPhone 6s</th>\n",
       "      <td>6.187500</td>\n",
       "    </tr>\n",
       "    <tr>\n",
       "      <th rowspan=\"3\" valign=\"top\">Switzerland</th>\n",
       "      <th>iPhone 5s</th>\n",
       "      <td>1.000000</td>\n",
       "    </tr>\n",
       "    <tr>\n",
       "      <th>iPhone 7</th>\n",
       "      <td>4.500000</td>\n",
       "    </tr>\n",
       "    <tr>\n",
       "      <th>iPhone 7 Plus</th>\n",
       "      <td>1.000000</td>\n",
       "    </tr>\n",
       "    <tr>\n",
       "      <th rowspan=\"20\" valign=\"top\">United States</th>\n",
       "      <th>HTC Desire 626s</th>\n",
       "      <td>1.200000</td>\n",
       "    </tr>\n",
       "    <tr>\n",
       "      <th>LGL33L</th>\n",
       "      <td>2.000000</td>\n",
       "    </tr>\n",
       "    <tr>\n",
       "      <th>LGMS330</th>\n",
       "      <td>2.500000</td>\n",
       "    </tr>\n",
       "    <tr>\n",
       "      <th>Pixel</th>\n",
       "      <td>3.000000</td>\n",
       "    </tr>\n",
       "    <tr>\n",
       "      <th>SAMSUNG-SM-G925A</th>\n",
       "      <td>2.000000</td>\n",
       "    </tr>\n",
       "    <tr>\n",
       "      <th>SAMSUNG-SM-G935A</th>\n",
       "      <td>1.000000</td>\n",
       "    </tr>\n",
       "    <tr>\n",
       "      <th>SCH-I435</th>\n",
       "      <td>1.500000</td>\n",
       "    </tr>\n",
       "    <tr>\n",
       "      <th>SM-G550T2</th>\n",
       "      <td>1.857143</td>\n",
       "    </tr>\n",
       "    <tr>\n",
       "      <th>SM-G900P</th>\n",
       "      <td>2.000000</td>\n",
       "    </tr>\n",
       "    <tr>\n",
       "      <th>SM-G930T</th>\n",
       "      <td>1.750000</td>\n",
       "    </tr>\n",
       "    <tr>\n",
       "      <th>VS986</th>\n",
       "      <td>1.428571</td>\n",
       "    </tr>\n",
       "    <tr>\n",
       "      <th>XT1254</th>\n",
       "      <td>1.000000</td>\n",
       "    </tr>\n",
       "    <tr>\n",
       "      <th>Z981</th>\n",
       "      <td>1.750000</td>\n",
       "    </tr>\n",
       "    <tr>\n",
       "      <th>iPad Air 2</th>\n",
       "      <td>1.000000</td>\n",
       "    </tr>\n",
       "    <tr>\n",
       "      <th>iPhone 5s</th>\n",
       "      <td>3.500000</td>\n",
       "    </tr>\n",
       "    <tr>\n",
       "      <th>iPhone 6</th>\n",
       "      <td>5.600000</td>\n",
       "    </tr>\n",
       "    <tr>\n",
       "      <th>iPhone 6 Plus</th>\n",
       "      <td>2.500000</td>\n",
       "    </tr>\n",
       "    <tr>\n",
       "      <th>iPhone 6s</th>\n",
       "      <td>7.000000</td>\n",
       "    </tr>\n",
       "    <tr>\n",
       "      <th>iPhone 6s Plus</th>\n",
       "      <td>19.500000</td>\n",
       "    </tr>\n",
       "    <tr>\n",
       "      <th>iPhone 7 Plus</th>\n",
       "      <td>9.600000</td>\n",
       "    </tr>\n",
       "    <tr>\n",
       "      <th>Unknown</th>\n",
       "      <th>SM-G928I</th>\n",
       "      <td>1.666667</td>\n",
       "    </tr>\n",
       "  </tbody>\n",
       "</table>\n",
       "<p>75 rows × 1 columns</p>\n",
       "</div>"
      ],
      "text/plain": [
       "                                 screen_number\n",
       "country_name  device_model_name               \n",
       "Australia     SM-A300Y                1.857143\n",
       "              SM-G900I                2.000000\n",
       "              SM-G920I                1.812500\n",
       "              SM-G930F                1.375000\n",
       "              SM-G935F                3.000000\n",
       "              SM-N920I                1.500000\n",
       "              iPhone 5                6.000000\n",
       "              iPhone 5s               3.500000\n",
       "              iPhone 6                5.166667\n",
       "              iPhone 6s               4.357143\n",
       "              iPhone 6s Plus          5.000000\n",
       "              iPhone 7                5.833333\n",
       "              iPhone 7 Plus          19.500000\n",
       "Austria       iPhone 6                4.666667\n",
       "Denmark       HTC One                 2.500000\n",
       "              Nexus 5X                1.875000\n",
       "              Nexus 6                 1.333333\n",
       "              SM-A500H                1.900000\n",
       "              SM-G925F                1.000000\n",
       "              iPhone 4s               2.000000\n",
       "              iPhone 5                4.000000\n",
       "              iPhone 5c              16.666667\n",
       "              iPhone 5s               4.277778\n",
       "              iPhone 6                5.520000\n",
       "              iPhone 6SE              4.800000\n",
       "              iPhone 6s               3.964912\n",
       "              iPhone 7                4.620253\n",
       "              iPhone 7 Plus           2.000000\n",
       "Germany       D5803                   1.000000\n",
       "              SM-A510F                2.000000\n",
       "...                                        ...\n",
       "Netherlands   SM-G800F                5.000000\n",
       "              iPhone 7                5.375000\n",
       "Norway        iPhone 6                1.000000\n",
       "Sweden        SM-G935F                1.000000\n",
       "              iPhone 6                7.000000\n",
       "              iPhone 6s               6.187500\n",
       "Switzerland   iPhone 5s               1.000000\n",
       "              iPhone 7                4.500000\n",
       "              iPhone 7 Plus           1.000000\n",
       "United States HTC Desire 626s         1.200000\n",
       "              LGL33L                  2.000000\n",
       "              LGMS330                 2.500000\n",
       "              Pixel                   3.000000\n",
       "              SAMSUNG-SM-G925A        2.000000\n",
       "              SAMSUNG-SM-G935A        1.000000\n",
       "              SCH-I435                1.500000\n",
       "              SM-G550T2               1.857143\n",
       "              SM-G900P                2.000000\n",
       "              SM-G930T                1.750000\n",
       "              VS986                   1.428571\n",
       "              XT1254                  1.000000\n",
       "              Z981                    1.750000\n",
       "              iPad Air 2              1.000000\n",
       "              iPhone 5s               3.500000\n",
       "              iPhone 6                5.600000\n",
       "              iPhone 6 Plus           2.500000\n",
       "              iPhone 6s               7.000000\n",
       "              iPhone 6s Plus         19.500000\n",
       "              iPhone 7 Plus           9.600000\n",
       "Unknown       SM-G928I                1.666667\n",
       "\n",
       "[75 rows x 1 columns]"
      ]
     },
     "execution_count": 20,
     "metadata": {},
     "output_type": "execute_result"
    }
   ],
   "source": [
    "pd.pivot_table(df,index=['country_name','device_model_name'],values=['screen_number'],aggfunc=np.mean)"
   ]
  },
  {
   "cell_type": "markdown",
   "metadata": {},
   "source": [
    "# Distribution of screen_number"
   ]
  },
  {
   "cell_type": "code",
   "execution_count": 7,
   "metadata": {
    "collapsed": false
   },
   "outputs": [],
   "source": [
    "countries = set(df.country_name)"
   ]
  },
  {
   "cell_type": "code",
   "execution_count": 81,
   "metadata": {
    "collapsed": false
   },
   "outputs": [
    {
     "data": {
      "text/plain": [
       "<matplotlib.text.Text at 0xe3df1f0>"
      ]
     },
     "execution_count": 81,
     "metadata": {},
     "output_type": "execute_result"
    },
    {
     "data": {
      "image/png": "[encoded data removed]",
      "text/plain": [
       "<matplotlib.figure.Figure at 0xf482a90>"
      ]
     },
     "metadata": {},
     "output_type": "display_data"
    }
   ],
   "source": [
    "plt.hist([df['screen_number'][df.country_name == country] for country in countries], stacked=True, label = countries, \n",
    "         bins = np.linspace(1,max(df.screen_number),max(df.screen_number)))\n",
    "plt.legend()\n",
    "ax=plt.gca()\n",
    "ax.set_xlabel('Screen number visited in 1 session ')\n",
    "ax.set_ylabel('Number of sessions')"
   ]
  },
  {
   "cell_type": "code",
   "execution_count": 10,
   "metadata": {
    "collapsed": false
   },
   "outputs": [
    {
     "data": {
      "image/png": "[encoded data removed]",
      "text/plain": [
       "<matplotlib.figure.Figure at 0xad52930>"
      ]
     },
     "metadata": {},
     "output_type": "display_data"
    }
   ],
   "source": [
    "fig=plt.figure(figsize = [10, 4])\n",
    "ax1=fig.add_subplot(121)\n",
    "usa_screen_number = df['screen_number'][df.country_name == 'United States']\n",
    "plt.hist(usa_screen_number, bins = np.linspace(1,max(usa_screen_number),max(usa_screen_number)))\n",
    "ax1.set_xlabel('Screen number visited in 1 session ')\n",
    "ax1.set_ylabel('Number of sessions')\n",
    "plt.title('US')\n",
    "\n",
    "ax2=fig.add_subplot(122)\n",
    "denmark_screen_number = df['screen_number'][df.country_name == 'Denmark']\n",
    "plt.hist(denmark_screen_number, bins = np.linspace(1,max(usa_screen_number),max(usa_screen_number)))\n",
    "ax2.set_xlabel('Screen number visited in 1 session ')\n",
    "plt.title('Denmark')\n",
    "\n",
    "plt.tight_layout()"
   ]
  },
  {
   "cell_type": "code",
   "execution_count": 12,
   "metadata": {
    "collapsed": false
   },
   "outputs": [
    {
     "data": {
      "image/png": "[encoded data removed]",
      "text/plain": [
       "<matplotlib.figure.Figure at 0x1edcef50>"
      ]
     },
     "metadata": {},
     "output_type": "display_data"
    }
   ],
   "source": [
    "plt.hist(df.screen_number, cumulative=True, bins = np.linspace(1,max(df.screen_number),max(df.screen_number)), histtype='step')\n",
    "plt.show()"
   ]
  },
  {
   "cell_type": "code",
   "execution_count": 24,
   "metadata": {
    "collapsed": false
   },
   "outputs": [
    {
     "name": "stderr",
     "output_type": "stream",
     "text": [
      "F:\\Python\\lib\\site-packages\\statsmodels\\nonparametric\\kdetools.py:20: VisibleDeprecationWarning: using a non-integer number instead of an integer will result in an error in the future\n",
      "  y = X[:m/2+1] + np.r_[0,X[m/2+1:],0]*1j\n"
     ]
    },
    {
     "data": {
      "text/plain": [
       "<matplotlib.axes._subplots.AxesSubplot at 0x8d79ef0>"
      ]
     },
     "execution_count": 24,
     "metadata": {},
     "output_type": "execute_result"
    },
    {
     "data": {
      "image/png": "[encoded data removed]",
      "text/plain": [
       "<matplotlib.figure.Figure at 0x8e029f0>"
      ]
     },
     "metadata": {},
     "output_type": "display_data"
    }
   ],
   "source": [
    "sns.kdeplot(df.screen_number, bw = 0.5, color = 'r')\n",
    "sns.kdeplot(df.screen_number, bw = 2, color = 'g')\n",
    "\n",
    "sns.kdeplot(df.screen_number, color = 'y')"
   ]
  },
  {
   "cell_type": "code",
   "execution_count": 100,
   "metadata": {
    "collapsed": false
   },
   "outputs": [
    {
     "data": {
      "image/png": "[encoded data removed]",
      "text/plain": [
       "<matplotlib.figure.Figure at 0xce34ff0>"
      ]
     },
     "metadata": {},
     "output_type": "display_data"
    }
   ],
   "source": [
    "fig = plt.figure(figsize=[10,4])\n",
    "ax1 = fig.add_subplot(121)\n",
    "freq, bins = np.histogram(df.screen_number, bins = np.linspace(1,max(df.screen_number),max(df.screen_number)))\n",
    "screens = bins[:-1]\n",
    "plt.bar(screens, freq, align='center')\n",
    "ax1.set_xlabel('Screen_number')\n",
    "ax1.set_ylabel('Frequency')\n",
    "\n",
    "ax2 = fig.add_subplot(122)\n",
    "plt.loglog(screens, freq, basex = 2)\n",
    "ax2.set_xlabel('Log screen_number')\n",
    "ax2.set_ylabel('Log frequency')\n",
    "\n",
    "plt.tight_layout()"
   ]
  },
  {
   "cell_type": "markdown",
   "metadata": {
    "collapsed": false
   },
   "source": [
    "How to determined cut-off point?"
   ]
  },
  {
   "cell_type": "markdown",
   "metadata": {},
   "source": [
    "# Distribution of total_time"
   ]
  },
  {
   "cell_type": "code",
   "execution_count": 9,
   "metadata": {
    "collapsed": false
   },
   "outputs": [
    {
     "data": {
      "text/plain": [
       "count    5552.000000\n",
       "mean       86.226945\n",
       "std       187.621513\n",
       "min         1.000000\n",
       "25%        18.000000\n",
       "50%        44.000000\n",
       "75%       100.000000\n",
       "max      6840.000000\n",
       "Name: total_time, dtype: float64"
      ]
     },
     "execution_count": 9,
     "metadata": {},
     "output_type": "execute_result"
    }
   ],
   "source": [
    "df.total_time.describe()"
   ]
  },
  {
   "cell_type": "code",
   "execution_count": 68,
   "metadata": {
    "collapsed": false
   },
   "outputs": [
    {
     "data": {
      "text/plain": [
       "198.0"
      ]
     },
     "execution_count": 68,
     "metadata": {},
     "output_type": "execute_result"
    }
   ],
   "source": [
    "np.percentile(df.total_time, 90)"
   ]
  },
  {
   "cell_type": "code",
   "execution_count": 13,
   "metadata": {
    "collapsed": false
   },
   "outputs": [
    {
     "data": {
      "text/plain": [
       "<matplotlib.text.Text at 0xc859590>"
      ]
     },
     "execution_count": 13,
     "metadata": {},
     "output_type": "execute_result"
    },
    {
     "data": {
      "image/png": "[encoded data removed]",
      "text/plain": [
       "<matplotlib.figure.Figure at 0x90128b0>"
      ]
     },
     "metadata": {},
     "output_type": "display_data"
    }
   ],
   "source": [
    "df.total_time[df.total_time < 300].hist(bins = 100)\n",
    "plt.ylabel('Frequency')\n",
    "plt.xlabel('Total_time')"
   ]
  },
  {
   "cell_type": "code",
   "execution_count": 8,
   "metadata": {
    "collapsed": false
   },
   "outputs": [
    {
     "data": {
      "text/plain": [
       "<matplotlib.text.Text at 0x48275f0>"
      ]
     },
     "execution_count": 8,
     "metadata": {},
     "output_type": "execute_result"
    },
    {
     "data": {
      "image/png": "[encoded data removed]",
      "text/plain": [
       "<matplotlib.figure.Figure at 0x481c5f0>"
      ]
     },
     "metadata": {},
     "output_type": "display_data"
    }
   ],
   "source": [
    "plt.hist([df['total_time'][df['total_time'] < 1000][df.country_name == country] / 60. for country in countries], \n",
    "             stacked=True, label = countries, bins = 30)\n",
    "plt.legend()\n",
    "ax=plt.gca()\n",
    "ax.set_xlabel('Total time of session length [minutes]')\n",
    "ax.set_ylabel('Number of sessions')"
   ]
  },
  {
   "cell_type": "code",
   "execution_count": 5,
   "metadata": {
    "collapsed": false
   },
   "outputs": [
    {
     "data": {
      "text/plain": [
       "<matplotlib.text.Text at 0x9e8d6d0>"
      ]
     },
     "execution_count": 5,
     "metadata": {},
     "output_type": "execute_result"
    },
    {
     "data": {
      "image/png": "[encoded data removed]",
      "text/plain": [
       "<matplotlib.figure.Figure at 0x9b4d0d0>"
      ]
     },
     "metadata": {},
     "output_type": "display_data"
    }
   ],
   "source": [
    "sns.distplot(df.loc[df['total_time'] < 400]['total_time'] / 60., kde=False)\n",
    "ax=plt.gca()\n",
    "ax.set_xlabel('Session length [minutes]')\n",
    "ax.set_ylabel('Number of sessions')"
   ]
  },
  {
   "cell_type": "markdown",
   "metadata": {},
   "source": [
    "## Calculating screen_score and time_score (deprecated)"
   ]
  },
  {
   "cell_type": "code",
   "execution_count": 12,
   "metadata": {
    "collapsed": false
   },
   "outputs": [
    {
     "data": {
      "text/html": [
       "<div>\n",
       "<table border=\"1\" class=\"dataframe\">\n",
       "  <thead>\n",
       "    <tr style=\"text-align: right;\">\n",
       "      <th></th>\n",
       "      <th>screen_number</th>\n",
       "      <th>screen_score</th>\n",
       "    </tr>\n",
       "  </thead>\n",
       "  <tbody>\n",
       "    <tr>\n",
       "      <th>1</th>\n",
       "      <td>5</td>\n",
       "      <td>0.444444</td>\n",
       "    </tr>\n",
       "    <tr>\n",
       "      <th>2</th>\n",
       "      <td>5</td>\n",
       "      <td>0.444444</td>\n",
       "    </tr>\n",
       "    <tr>\n",
       "      <th>3</th>\n",
       "      <td>3</td>\n",
       "      <td>0.222222</td>\n",
       "    </tr>\n",
       "    <tr>\n",
       "      <th>4</th>\n",
       "      <td>2</td>\n",
       "      <td>0.111111</td>\n",
       "    </tr>\n",
       "    <tr>\n",
       "      <th>5</th>\n",
       "      <td>6</td>\n",
       "      <td>0.555556</td>\n",
       "    </tr>\n",
       "    <tr>\n",
       "      <th>6</th>\n",
       "      <td>1</td>\n",
       "      <td>0.000000</td>\n",
       "    </tr>\n",
       "    <tr>\n",
       "      <th>7</th>\n",
       "      <td>13</td>\n",
       "      <td>1.000000</td>\n",
       "    </tr>\n",
       "    <tr>\n",
       "      <th>8</th>\n",
       "      <td>16</td>\n",
       "      <td>1.000000</td>\n",
       "    </tr>\n",
       "    <tr>\n",
       "      <th>9</th>\n",
       "      <td>2</td>\n",
       "      <td>0.111111</td>\n",
       "    </tr>\n",
       "    <tr>\n",
       "      <th>10</th>\n",
       "      <td>1</td>\n",
       "      <td>0.000000</td>\n",
       "    </tr>\n",
       "  </tbody>\n",
       "</table>\n",
       "</div>"
      ],
      "text/plain": [
       "    screen_number  screen_score\n",
       "1               5      0.444444\n",
       "2               5      0.444444\n",
       "3               3      0.222222\n",
       "4               2      0.111111\n",
       "5               6      0.555556\n",
       "6               1      0.000000\n",
       "7              13      1.000000\n",
       "8              16      1.000000\n",
       "9               2      0.111111\n",
       "10              1      0.000000"
      ]
     },
     "execution_count": 12,
     "metadata": {},
     "output_type": "execute_result"
    }
   ],
   "source": [
    "df[['screen_number', 'screen_score']].head(10)"
   ]
  },
  {
   "cell_type": "code",
   "execution_count": 17,
   "metadata": {
    "collapsed": false
   },
   "outputs": [
    {
     "data": {
      "text/html": [
       "<div>\n",
       "<table border=\"1\" class=\"dataframe\">\n",
       "  <thead>\n",
       "    <tr style=\"text-align: right;\">\n",
       "      <th></th>\n",
       "      <th>screens_visited</th>\n",
       "      <th>total_time</th>\n",
       "      <th>time_score</th>\n",
       "    </tr>\n",
       "  </thead>\n",
       "  <tbody>\n",
       "    <tr>\n",
       "      <th>1</th>\n",
       "      <td>[UploadViewController, PhotoStreamViewController, PurchaseViewController, CouponModalViewController, UIAlertController]</td>\n",
       "      <td>114</td>\n",
       "      <td>4.804046</td>\n",
       "    </tr>\n",
       "    <tr>\n",
       "      <th>2</th>\n",
       "      <td>[UIAlertController, EventPageViewController, PhotoStreamViewController, EventPageViewController, UIAlertController]</td>\n",
       "      <td>109</td>\n",
       "      <td>4.593342</td>\n",
       "    </tr>\n",
       "    <tr>\n",
       "      <th>3</th>\n",
       "      <td>[UIAlertController, SupportViewController, MFMailComposeRemoteViewController]</td>\n",
       "      <td>76</td>\n",
       "      <td>3.202697</td>\n",
       "    </tr>\n",
       "    <tr>\n",
       "      <th>4</th>\n",
       "      <td>[SupportViewController, PhotoStreamViewController]</td>\n",
       "      <td>98</td>\n",
       "      <td>4.129794</td>\n",
       "    </tr>\n",
       "    <tr>\n",
       "      <th>5</th>\n",
       "      <td>[PhotoStreamViewController, PurchaseViewController, PhotoStreamViewController, PurchaseViewController, CouponModalViewController, UIAlertController]</td>\n",
       "      <td>263</td>\n",
       "      <td>10.000000</td>\n",
       "    </tr>\n",
       "    <tr>\n",
       "      <th>6</th>\n",
       "      <td>[UIAlertController]</td>\n",
       "      <td>119</td>\n",
       "      <td>5.014749</td>\n",
       "    </tr>\n",
       "    <tr>\n",
       "      <th>7</th>\n",
       "      <td>[MenuController, PhotoStreamViewController, PurchaseViewController, CouponModalViewController, UIAlertController, PhotoStreamViewController, PurchaseViewC...</td>\n",
       "      <td>255</td>\n",
       "      <td>10.000000</td>\n",
       "    </tr>\n",
       "    <tr>\n",
       "      <th>8</th>\n",
       "      <td>[MenuController, UploadViewController, MenuController, UploadViewController, CameraViewController, UploadViewController, MenuController, ImageViewe...</td>\n",
       "      <td>338</td>\n",
       "      <td>10.000000</td>\n",
       "    </tr>\n",
       "    <tr>\n",
       "      <th>9</th>\n",
       "      <td>[PhotoStreamViewController, UploadViewController]</td>\n",
       "      <td>94</td>\n",
       "      <td>3.961231</td>\n",
       "    </tr>\n",
       "    <tr>\n",
       "      <th>10</th>\n",
       "      <td>[MenuController]</td>\n",
       "      <td>8</td>\n",
       "      <td>0.337126</td>\n",
       "    </tr>\n",
       "  </tbody>\n",
       "</table>\n",
       "</div>"
      ],
      "text/plain": [
       "                                                                                                                                                                                            screens_visited  \\\n",
       "1                                                       [UploadViewController, PhotoStreamViewController, PurchaseViewController, CouponModalViewController, UIAlertController]   \n",
       "2                                                                  [UIAlertController, EventPageViewController, PhotoStreamViewController, EventPageViewController, UIAlertController]   \n",
       "3                                                                                                                      [UIAlertController, SupportViewController, MFMailComposeRemoteViewController]   \n",
       "4                                                                                                                                          [SupportViewController, PhotoStreamViewController]   \n",
       "5                   [PhotoStreamViewController, PurchaseViewController, PhotoStreamViewController, PurchaseViewController, CouponModalViewController, UIAlertController]   \n",
       "6                                                                                                                                                                                       [UIAlertController]   \n",
       "7   [MenuController, PhotoStreamViewController, PurchaseViewController, CouponModalViewController, UIAlertController, PhotoStreamViewController, PurchaseViewC...   \n",
       "8   [MenuController, UploadViewController, MenuController, UploadViewController, CameraViewController, UploadViewController, MenuController, ImageViewe...   \n",
       "9                                                                                                                                           [PhotoStreamViewController, UploadViewController]   \n",
       "10                                                                                                                                                                                  [MenuController]   \n",
       "\n",
       "    total_time  time_score  \n",
       "1          114    4.804046  \n",
       "2          109    4.593342  \n",
       "3           76    3.202697  \n",
       "4           98    4.129794  \n",
       "5          263   10.000000  \n",
       "6          119    5.014749  \n",
       "7          255   10.000000  \n",
       "8          338   10.000000  \n",
       "9           94    3.961231  \n",
       "10           8    0.337126  "
      ]
     },
     "execution_count": 17,
     "metadata": {},
     "output_type": "execute_result"
    }
   ],
   "source": [
    "df[['screens_visited','total_time', 'time_score']].head(10)"
   ]
  },
  {
   "cell_type": "markdown",
   "metadata": {},
   "source": [
    "# Other plots"
   ]
  },
  {
   "cell_type": "code",
   "execution_count": 67,
   "metadata": {
    "collapsed": false
   },
   "outputs": [
    {
     "data": {
      "image/png": "[encoded data removed]",
      "text/plain": [
       "<matplotlib.figure.Figure at 0x136ebc30>"
      ]
     },
     "metadata": {},
     "output_type": "display_data"
    }
   ],
   "source": [
    "pd.Series(index=[np.sort(df['time_formatted'])],\n",
    "              data=range(len(df))).plot(label='sessions')\n",
    "ax=plt.gca()\n",
    "ax.xaxis.set_major_formatter(mdates.DateFormatter('%Y-%m-%d %H:00'))"
   ]
  },
  {
   "cell_type": "code",
   "execution_count": 21,
   "metadata": {
    "collapsed": false
   },
   "outputs": [
    {
     "data": {
      "text/plain": [
       "<matplotlib.text.Text at 0x4b14910>"
      ]
     },
     "execution_count": 21,
     "metadata": {},
     "output_type": "execute_result"
    },
    {
     "data": {
      "image/png": "[encoded data removed]",
      "text/plain": [
       "<matplotlib.figure.Figure at 0x4ab6610>"
      ]
     },
     "metadata": {},
     "output_type": "display_data"
    }
   ],
   "source": [
    "sns.barplot(data=df, y='total_time', x='time_of_the_day', estimator=len)\n",
    "ax=plt.gca()\n",
    "ax.set_xlabel('Time of the day (UTC)')\n",
    "ax.set_ylabel('Number of sessions')"
   ]
  },
  {
   "cell_type": "markdown",
   "metadata": {},
   "source": [
    "## Relationship between screen_number and total_time"
   ]
  },
  {
   "cell_type": "code",
   "execution_count": 20,
   "metadata": {
    "collapsed": false
   },
   "outputs": [],
   "source": [
    "# Remove duplicate values first for better plotting\n",
    "df2 = df[['screen_number', 'total_time', 'interaction_number']].copy()\n",
    "bins = [0,10,20,40,max(df2.interaction_number)+1]\n",
    "df2['interaction_bin'] = pd.cut(df2['interaction_number'], bins, labels =[1,2,3,4])\n",
    "df2['log_screen_number'] = np.log(df.screen_number)\n",
    "df2['log_total_time'] = np.log(df.total_time)\n",
    "\n",
    "df2 = df2.drop_duplicates()"
   ]
  },
  {
   "cell_type": "code",
   "execution_count": 12,
   "metadata": {
    "collapsed": false
   },
   "outputs": [
    {
     "data": {
      "text/plain": [
       "<matplotlib.text.Text at 0xfeb71f0>"
      ]
     },
     "execution_count": 12,
     "metadata": {},
     "output_type": "execute_result"
    },
    {
     "data": {
      "image/png": "[encoded data removed]",
      "text/plain": [
       "<matplotlib.figure.Figure at 0xefbe8b0>"
      ]
     },
     "metadata": {},
     "output_type": "display_data"
    }
   ],
   "source": [
    "plt.scatter(x='log_screen_number', y='log_total_time', data=df2)\n",
    "plt.xlabel('log_screen_number')\n",
    "plt.ylabel('log_total_time')"
   ]
  },
  {
   "cell_type": "code",
   "execution_count": 24,
   "metadata": {
    "collapsed": false
   },
   "outputs": [
    {
     "data": {
      "text/plain": [
       "<matplotlib.colorbar.Colorbar at 0x181ab3b0>"
      ]
     },
     "execution_count": 24,
     "metadata": {},
     "output_type": "execute_result"
    },
    {
     "data": {
      "image/png": "[encoded data removed]",
      "text/plain": [
       "<matplotlib.figure.Figure at 0x15475530>"
      ]
     },
     "metadata": {},
     "output_type": "display_data"
    }
   ],
   "source": [
    "fig = plt.figure(figsize = [9,5])\n",
    "plt.scatter(x='screen_number', y='log_total_time', c='interaction_bin', cmap='plasma', data=df2, s=20)\n",
    "plt.xlabel('screen_number')\n",
    "plt.ylabel('log_total_time')\n",
    "plt.colorbar()"
   ]
  },
  {
   "cell_type": "code",
   "execution_count": 39,
   "metadata": {
    "collapsed": false
   },
   "outputs": [
    {
     "data": {
      "text/plain": [
       "<matplotlib.colorbar.Colorbar at 0xbe07cb0>"
      ]
     },
     "execution_count": 39,
     "metadata": {},
     "output_type": "execute_result"
    },
    {
     "data": {
      "image/png": "[encoded data removed]",
      "text/plain": [
       "<matplotlib.figure.Figure at 0x12abf770>"
      ]
     },
     "metadata": {},
     "output_type": "display_data"
    }
   ],
   "source": [
    "fig = plt.figure(figsize = [9,5])\n",
    "plt.scatter(x='screen_number', y='log_total_time', c='interaction_number', cmap='plasma', data=df2, s=20)\n",
    "plt.xlabel('screen_number')\n",
    "plt.ylabel('log_total_time')\n",
    "\n",
    "plt.colorbar()"
   ]
  },
  {
   "cell_type": "code",
   "execution_count": 108,
   "metadata": {
    "collapsed": false
   },
   "outputs": [
    {
     "data": {
      "text/plain": [
       "<matplotlib.colorbar.Colorbar at 0x151caf90>"
      ]
     },
     "execution_count": 108,
     "metadata": {},
     "output_type": "execute_result"
    },
    {
     "data": {
      "image/png": "[encoded data removed]",
      "text/plain": [
       "<matplotlib.figure.Figure at 0x15084b30>"
      ]
     },
     "metadata": {},
     "output_type": "display_data"
    }
   ],
   "source": [
    "fig = plt.figure(figsize = [9,5])\n",
    "plt.scatter(x='log_screen_number', y='log_total_time', c='interaction_number', cmap='plasma', data=df2[df2.interaction_bin == 4])\n",
    "plt.xlabel('log_screen_number')\n",
    "plt.ylabel('log_total_time')\n",
    "plt.xticks(np.arange(-1,6,1))\n",
    "plt.colorbar()"
   ]
  },
  {
   "cell_type": "markdown",
   "metadata": {},
   "source": [
    "# Interaction"
   ]
  },
  {
   "cell_type": "code",
   "execution_count": 10,
   "metadata": {
    "collapsed": false
   },
   "outputs": [
    {
     "data": {
      "text/plain": [
       "count    5552.000000\n",
       "mean       35.582673\n",
       "std        50.426261\n",
       "min         1.000000\n",
       "25%         7.000000\n",
       "50%        18.000000\n",
       "75%        42.000000\n",
       "max       680.000000\n",
       "Name: interaction_number, dtype: float64"
      ]
     },
     "execution_count": 10,
     "metadata": {},
     "output_type": "execute_result"
    }
   ],
   "source": [
    "df.interaction_number.describe()"
   ]
  },
  {
   "cell_type": "code",
   "execution_count": 11,
   "metadata": {
    "collapsed": false
   },
   "outputs": [
    {
     "data": {
      "text/plain": [
       "86.0"
      ]
     },
     "execution_count": 11,
     "metadata": {},
     "output_type": "execute_result"
    }
   ],
   "source": [
    "np.percentile(df.interaction_number,90)"
   ]
  },
  {
   "cell_type": "code",
   "execution_count": 18,
   "metadata": {
    "collapsed": false
   },
   "outputs": [
    {
     "data": {
      "image/png": "[encoded data removed]",
      "text/plain": [
       "<matplotlib.figure.Figure at 0xca03c90>"
      ]
     },
     "metadata": {},
     "output_type": "display_data"
    }
   ],
   "source": [
    "plt.hist(df.interaction_number, bins = 500) # bins = np.linspace(1,max(df.interaction_number),max(df.interaction_number)))\n",
    "plt.ylabel('Frequency')\n",
    "plt.xlabel('Interaction_number')\n",
    "plt.show()"
   ]
  },
  {
   "cell_type": "code",
   "execution_count": 22,
   "metadata": {
    "collapsed": false
   },
   "outputs": [
    {
     "data": {
      "text/html": [
       "<div>\n",
       "<table border=\"1\" class=\"dataframe\">\n",
       "  <thead>\n",
       "    <tr style=\"text-align: right;\">\n",
       "      <th></th>\n",
       "      <th>screen_number</th>\n",
       "      <th>total_time</th>\n",
       "      <th>interaction_number</th>\n",
       "    </tr>\n",
       "  </thead>\n",
       "  <tbody>\n",
       "    <tr>\n",
       "      <th>461</th>\n",
       "      <td>2</td>\n",
       "      <td>16956</td>\n",
       "      <td>28</td>\n",
       "    </tr>\n",
       "    <tr>\n",
       "      <th>122</th>\n",
       "      <td>1</td>\n",
       "      <td>12893</td>\n",
       "      <td>0</td>\n",
       "    </tr>\n",
       "    <tr>\n",
       "      <th>799</th>\n",
       "      <td>1</td>\n",
       "      <td>1349</td>\n",
       "      <td>74</td>\n",
       "    </tr>\n",
       "    <tr>\n",
       "      <th>57</th>\n",
       "      <td>2</td>\n",
       "      <td>909</td>\n",
       "      <td>8</td>\n",
       "    </tr>\n",
       "    <tr>\n",
       "      <th>186</th>\n",
       "      <td>1</td>\n",
       "      <td>839</td>\n",
       "      <td>37</td>\n",
       "    </tr>\n",
       "    <tr>\n",
       "      <th>435</th>\n",
       "      <td>2</td>\n",
       "      <td>720</td>\n",
       "      <td>39</td>\n",
       "    </tr>\n",
       "    <tr>\n",
       "      <th>950</th>\n",
       "      <td>2</td>\n",
       "      <td>682</td>\n",
       "      <td>32</td>\n",
       "    </tr>\n",
       "    <tr>\n",
       "      <th>609</th>\n",
       "      <td>1</td>\n",
       "      <td>542</td>\n",
       "      <td>84</td>\n",
       "    </tr>\n",
       "    <tr>\n",
       "      <th>332</th>\n",
       "      <td>1</td>\n",
       "      <td>512</td>\n",
       "      <td>13</td>\n",
       "    </tr>\n",
       "    <tr>\n",
       "      <th>916</th>\n",
       "      <td>2</td>\n",
       "      <td>491</td>\n",
       "      <td>1</td>\n",
       "    </tr>\n",
       "  </tbody>\n",
       "</table>\n",
       "</div>"
      ],
      "text/plain": [
       "     screen_number  total_time  interaction_number\n",
       "461              2       16956                  28\n",
       "122              1       12893                   0\n",
       "799              1        1349                  74\n",
       "57               2         909                   8\n",
       "186              1         839                  37\n",
       "435              2         720                  39\n",
       "950              2         682                  32\n",
       "609              1         542                  84\n",
       "332              1         512                  13\n",
       "916              2         491                   1"
      ]
     },
     "execution_count": 22,
     "metadata": {},
     "output_type": "execute_result"
    }
   ],
   "source": [
    "df2[df2.screen_number < 3].sort_values(by='total_time', ascending=False).head(10)"
   ]
  },
  {
   "cell_type": "markdown",
   "metadata": {},
   "source": [
    "Even with screen_number = 1, aka user only reached 1 screen, total_time can be extremely high. He opened the app and left it there? Or faulty data? I expected a more linear relationship"
   ]
  },
  {
   "cell_type": "code",
   "execution_count": 9,
   "metadata": {
    "collapsed": false
   },
   "outputs": [
    {
     "name": "stdout",
     "output_type": "stream",
     "text": [
      "26\n",
      "0.004679625629949604\n"
     ]
    }
   ],
   "source": [
    "print(len(df[(df.screen_number <= 3) & (df.total_time > 180) & (df.interaction_number <= 10)]))\n",
    "print(len(df[(df.screen_number <= 3) & (df.total_time > 180) & (df.interaction_number <= 10)])/len(df))"
   ]
  },
  {
   "cell_type": "markdown",
   "metadata": {},
   "source": [
    "Only 4% of sessions have less than 4 screens AND total time > 3 minutes. Recommend deleting them."
   ]
  },
  {
   "cell_type": "code",
   "execution_count": 76,
   "metadata": {
    "collapsed": false
   },
   "outputs": [
    {
     "data": {
      "text/html": [
       "<div>\n",
       "<table border=\"1\" class=\"dataframe\">\n",
       "  <thead>\n",
       "    <tr style=\"text-align: right;\">\n",
       "      <th></th>\n",
       "      <th>screen_number</th>\n",
       "      <th>total_time</th>\n",
       "    </tr>\n",
       "  </thead>\n",
       "  <tbody>\n",
       "    <tr>\n",
       "      <th>10</th>\n",
       "      <td>1</td>\n",
       "      <td>8</td>\n",
       "    </tr>\n",
       "    <tr>\n",
       "      <th>30</th>\n",
       "      <td>2</td>\n",
       "      <td>4</td>\n",
       "    </tr>\n",
       "    <tr>\n",
       "      <th>44</th>\n",
       "      <td>1</td>\n",
       "      <td>4</td>\n",
       "    </tr>\n",
       "    <tr>\n",
       "      <th>81</th>\n",
       "      <td>2</td>\n",
       "      <td>9</td>\n",
       "    </tr>\n",
       "    <tr>\n",
       "      <th>82</th>\n",
       "      <td>1</td>\n",
       "      <td>3</td>\n",
       "    </tr>\n",
       "    <tr>\n",
       "      <th>84</th>\n",
       "      <td>2</td>\n",
       "      <td>5</td>\n",
       "    </tr>\n",
       "    <tr>\n",
       "      <th>85</th>\n",
       "      <td>2</td>\n",
       "      <td>8</td>\n",
       "    </tr>\n",
       "    <tr>\n",
       "      <th>104</th>\n",
       "      <td>1</td>\n",
       "      <td>0</td>\n",
       "    </tr>\n",
       "    <tr>\n",
       "      <th>151</th>\n",
       "      <td>1</td>\n",
       "      <td>6</td>\n",
       "    </tr>\n",
       "    <tr>\n",
       "      <th>161</th>\n",
       "      <td>1</td>\n",
       "      <td>9</td>\n",
       "    </tr>\n",
       "    <tr>\n",
       "      <th>166</th>\n",
       "      <td>1</td>\n",
       "      <td>10</td>\n",
       "    </tr>\n",
       "    <tr>\n",
       "      <th>236</th>\n",
       "      <td>1</td>\n",
       "      <td>2</td>\n",
       "    </tr>\n",
       "    <tr>\n",
       "      <th>264</th>\n",
       "      <td>1</td>\n",
       "      <td>1</td>\n",
       "    </tr>\n",
       "    <tr>\n",
       "      <th>266</th>\n",
       "      <td>3</td>\n",
       "      <td>10</td>\n",
       "    </tr>\n",
       "    <tr>\n",
       "      <th>285</th>\n",
       "      <td>2</td>\n",
       "      <td>6</td>\n",
       "    </tr>\n",
       "    <tr>\n",
       "      <th>305</th>\n",
       "      <td>1</td>\n",
       "      <td>7</td>\n",
       "    </tr>\n",
       "    <tr>\n",
       "      <th>380</th>\n",
       "      <td>2</td>\n",
       "      <td>10</td>\n",
       "    </tr>\n",
       "    <tr>\n",
       "      <th>404</th>\n",
       "      <td>1</td>\n",
       "      <td>5</td>\n",
       "    </tr>\n",
       "  </tbody>\n",
       "</table>\n",
       "</div>"
      ],
      "text/plain": [
       "     screen_number  total_time\n",
       "10               1           8\n",
       "30               2           4\n",
       "44               1           4\n",
       "81               2           9\n",
       "82               1           3\n",
       "84               2           5\n",
       "85               2           8\n",
       "104              1           0\n",
       "151              1           6\n",
       "161              1           9\n",
       "166              1          10\n",
       "236              1           2\n",
       "264              1           1\n",
       "266              3          10\n",
       "285              2           6\n",
       "305              1           7\n",
       "380              2          10\n",
       "404              1           5"
      ]
     },
     "execution_count": 76,
     "metadata": {},
     "output_type": "execute_result"
    }
   ],
   "source": [
    "df2[df2.total_time <= 10]"
   ]
  },
  {
   "cell_type": "code",
   "execution_count": null,
   "metadata": {
    "collapsed": true
   },
   "outputs": [],
   "source": []
  },
  {
   "cell_type": "code",
   "execution_count": 11,
   "metadata": {
    "collapsed": false
   },
   "outputs": [
    {
     "data": {
      "text/plain": [
       "[{'_screen': 'CreateProfileModalViewController',\n",
       "  'interaction_count': 7,\n",
       "  'interaction_time': array([ 0.404755  ,  0.57258099,  0.57315803,  0.69820303,  1.62592798,\n",
       "          1.74047703,  3.11867404]),\n",
       "  'start_time': 0,\n",
       "  'view_time': 201}]"
      ]
     },
     "execution_count": 11,
     "metadata": {},
     "output_type": "execute_result"
    }
   ],
   "source": [
    "extract_interaction_time_and_information(df['heatmap_timeline'][187])"
   ]
  },
  {
   "cell_type": "code",
   "execution_count": null,
   "metadata": {
    "collapsed": true
   },
   "outputs": [],
   "source": []
  },
  {
   "cell_type": "markdown",
   "metadata": {},
   "source": [
    "## Running DBSCAN on 3 variables above"
   ]
  },
  {
   "cell_type": "code",
   "execution_count": 116,
   "metadata": {
    "collapsed": false
   },
   "outputs": [
    {
     "data": {
      "text/html": [
       "<div>\n",
       "<table border=\"1\" class=\"dataframe\">\n",
       "  <thead>\n",
       "    <tr style=\"text-align: right;\">\n",
       "      <th></th>\n",
       "      <th>screen_number</th>\n",
       "      <th>total_time</th>\n",
       "      <th>interaction_number</th>\n",
       "      <th>interaction_bin</th>\n",
       "      <th>log_screen_number</th>\n",
       "      <th>log_total_time</th>\n",
       "    </tr>\n",
       "  </thead>\n",
       "  <tbody>\n",
       "    <tr>\n",
       "      <th>1</th>\n",
       "      <td>5</td>\n",
       "      <td>114</td>\n",
       "      <td>35</td>\n",
       "      <td>3</td>\n",
       "      <td>1.609438</td>\n",
       "      <td>4.736198</td>\n",
       "    </tr>\n",
       "    <tr>\n",
       "      <th>2</th>\n",
       "      <td>5</td>\n",
       "      <td>109</td>\n",
       "      <td>32</td>\n",
       "      <td>3</td>\n",
       "      <td>1.609438</td>\n",
       "      <td>4.691348</td>\n",
       "    </tr>\n",
       "    <tr>\n",
       "      <th>3</th>\n",
       "      <td>3</td>\n",
       "      <td>76</td>\n",
       "      <td>8</td>\n",
       "      <td>1</td>\n",
       "      <td>1.098612</td>\n",
       "      <td>4.330733</td>\n",
       "    </tr>\n",
       "    <tr>\n",
       "      <th>4</th>\n",
       "      <td>2</td>\n",
       "      <td>98</td>\n",
       "      <td>42</td>\n",
       "      <td>4</td>\n",
       "      <td>0.693147</td>\n",
       "      <td>4.584967</td>\n",
       "    </tr>\n",
       "    <tr>\n",
       "      <th>5</th>\n",
       "      <td>6</td>\n",
       "      <td>263</td>\n",
       "      <td>110</td>\n",
       "      <td>4</td>\n",
       "      <td>1.791759</td>\n",
       "      <td>5.572154</td>\n",
       "    </tr>\n",
       "    <tr>\n",
       "      <th>6</th>\n",
       "      <td>1</td>\n",
       "      <td>119</td>\n",
       "      <td>11</td>\n",
       "      <td>2</td>\n",
       "      <td>0.000000</td>\n",
       "      <td>4.779123</td>\n",
       "    </tr>\n",
       "    <tr>\n",
       "      <th>7</th>\n",
       "      <td>13</td>\n",
       "      <td>255</td>\n",
       "      <td>59</td>\n",
       "      <td>4</td>\n",
       "      <td>2.564949</td>\n",
       "      <td>5.541264</td>\n",
       "    </tr>\n",
       "    <tr>\n",
       "      <th>8</th>\n",
       "      <td>16</td>\n",
       "      <td>338</td>\n",
       "      <td>121</td>\n",
       "      <td>4</td>\n",
       "      <td>2.772589</td>\n",
       "      <td>5.823046</td>\n",
       "    </tr>\n",
       "    <tr>\n",
       "      <th>9</th>\n",
       "      <td>2</td>\n",
       "      <td>94</td>\n",
       "      <td>37</td>\n",
       "      <td>3</td>\n",
       "      <td>0.693147</td>\n",
       "      <td>4.543295</td>\n",
       "    </tr>\n",
       "    <tr>\n",
       "      <th>10</th>\n",
       "      <td>1</td>\n",
       "      <td>8</td>\n",
       "      <td>4</td>\n",
       "      <td>1</td>\n",
       "      <td>0.000000</td>\n",
       "      <td>2.079442</td>\n",
       "    </tr>\n",
       "  </tbody>\n",
       "</table>\n",
       "</div>"
      ],
      "text/plain": [
       "    screen_number  total_time  interaction_number interaction_bin  \\\n",
       "1               5         114                  35               3   \n",
       "2               5         109                  32               3   \n",
       "3               3          76                   8               1   \n",
       "4               2          98                  42               4   \n",
       "5               6         263                 110               4   \n",
       "6               1         119                  11               2   \n",
       "7              13         255                  59               4   \n",
       "8              16         338                 121               4   \n",
       "9               2          94                  37               3   \n",
       "10              1           8                   4               1   \n",
       "\n",
       "    log_screen_number  log_total_time  \n",
       "1            1.609438        4.736198  \n",
       "2            1.609438        4.691348  \n",
       "3            1.098612        4.330733  \n",
       "4            0.693147        4.584967  \n",
       "5            1.791759        5.572154  \n",
       "6            0.000000        4.779123  \n",
       "7            2.564949        5.541264  \n",
       "8            2.772589        5.823046  \n",
       "9            0.693147        4.543295  \n",
       "10           0.000000        2.079442  "
      ]
     },
     "execution_count": 116,
     "metadata": {},
     "output_type": "execute_result"
    }
   ],
   "source": [
    "df3.head(10)"
   ]
  },
  {
   "cell_type": "code",
   "execution_count": 117,
   "metadata": {
    "collapsed": true
   },
   "outputs": [],
   "source": [
    "X = df3[['screen_number', 'total_time', 'interaction_number']]"
   ]
  },
  {
   "cell_type": "code",
   "execution_count": 118,
   "metadata": {
    "collapsed": true
   },
   "outputs": [],
   "source": [
    "X = StandardScaler().fit_transform(X)"
   ]
  },
  {
   "cell_type": "code",
   "execution_count": 134,
   "metadata": {
    "collapsed": false
   },
   "outputs": [],
   "source": [
    "db = DBSCAN(eps=0.3, min_samples=10).fit_predict(X)"
   ]
  },
  {
   "cell_type": "code",
   "execution_count": 141,
   "metadata": {
    "collapsed": false
   },
   "outputs": [
    {
     "name": "stdout",
     "output_type": "stream",
     "text": [
      "[[ -1 127]\n",
      " [  0 813]]\n"
     ]
    }
   ],
   "source": [
    "unique, counts = np.unique(db, return_counts=True)\n",
    "print (np.asarray((unique, counts)).T)"
   ]
  },
  {
   "cell_type": "code",
   "execution_count": 142,
   "metadata": {
    "collapsed": false
   },
   "outputs": [
    {
     "data": {
      "text/plain": [
       "<matplotlib.text.Text at 0x16b42dd0>"
      ]
     },
     "execution_count": 142,
     "metadata": {},
     "output_type": "execute_result"
    },
    {
     "data": {
      "image/png": "[encoded data removed]",
      "text/plain": [
       "<matplotlib.figure.Figure at 0x16b14110>"
      ]
     },
     "metadata": {},
     "output_type": "display_data"
    }
   ],
   "source": [
    "plt.scatter(x=df3.log_screen_number, y=df3.log_total_time, c=db, cmap = 'plasma')\n",
    "plt.xlabel(\"log screen number\")\n",
    "plt.ylabel(\"log total time\")"
   ]
  },
  {
   "cell_type": "markdown",
   "metadata": {},
   "source": [
    "# Running LatentDirichletAllocation on all variables"
   ]
  },
  {
   "cell_type": "code",
   "execution_count": 165,
   "metadata": {
    "collapsed": true
   },
   "outputs": [],
   "source": [
    "features = ['device_class',\n",
    " 'device_model_name',\n",
    " 'device_name',\n",
    " 'device_type',\n",
    " 'first_activity',\n",
    " 'height',\n",
    " 'os_name',\n",
    " 'preferences',\n",
    " 'resolution',\n",
    " 'sdk_version',\n",
    " 'total_time',\n",
    " 'unplayed',\n",
    " 'used_app_version',\n",
    " 'width',\n",
    " 'ymd',\n",
    " 'time_of_the_day',\n",
    " 'time_formatted',\n",
    " 'country_name',\n",
    " 'country_code',\n",
    " 'weekday',\n",
    " 'continent',\n",
    " 'screens_visited',\n",
    " 'screen_number',\n",
    " 'time_per_screen',\n",
    " 'interaction_information',\n",
    " 'interaction_number']"
   ]
  },
  {
   "cell_type": "code",
   "execution_count": 162,
   "metadata": {
    "collapsed": false
   },
   "outputs": [],
   "source": [
    "X_lda = df['interaction_information'].apply(str)"
   ]
  },
  {
   "cell_type": "code",
   "execution_count": 163,
   "metadata": {
    "collapsed": false
   },
   "outputs": [
    {
     "data": {
      "text/plain": [
       "(1062,)"
      ]
     },
     "execution_count": 163,
     "metadata": {},
     "output_type": "execute_result"
    }
   ],
   "source": [
    "X_lda.shape"
   ]
  },
  {
   "cell_type": "code",
   "execution_count": 166,
   "metadata": {
    "collapsed": true
   },
   "outputs": [],
   "source": [
    "from sklearn.feature_extraction.text import CountVectorizer\n",
    "vect_lda = CountVectorizer()"
   ]
  },
  {
   "cell_type": "code",
   "execution_count": 167,
   "metadata": {
    "collapsed": false
   },
   "outputs": [
    {
     "name": "stderr",
     "output_type": "stream",
     "text": [
      "F:\\Python\\lib\\site-packages\\sklearn\\decomposition\\online_lda.py:508: DeprecationWarning: The default value for 'learning_method' will be changed from 'online' to 'batch' in the release 0.20. This warning was introduced in 0.18.\n",
      "  DeprecationWarning)\n"
     ]
    }
   ],
   "source": [
    "lda = LatentDirichletAllocation().fit_transform(vect_lda.fit_transform(X_lda))"
   ]
  },
  {
   "cell_type": "code",
   "execution_count": 169,
   "metadata": {
    "collapsed": false
   },
   "outputs": [
    {
     "data": {
      "text/plain": [
       "array([  7.69230940e-04,   7.69230940e-04,   7.69230940e-04,\n",
       "         9.93076911e-01,   7.69230881e-04,   7.69230918e-04,\n",
       "         7.69230939e-04,   7.69241934e-04,   7.69230875e-04,\n",
       "         7.69230939e-04])"
      ]
     },
     "execution_count": 169,
     "metadata": {},
     "output_type": "execute_result"
    }
   ],
   "source": [
    "lda[0]"
   ]
  },
  {
   "cell_type": "code",
   "execution_count": null,
   "metadata": {
    "collapsed": true
   },
   "outputs": [],
   "source": []
  },
  {
   "cell_type": "markdown",
   "metadata": {},
   "source": [
    "# Statistical tests to determine if countries affect average metrics:"
   ]
  },
  {
   "cell_type": "code",
   "execution_count": 25,
   "metadata": {
    "collapsed": false
   },
   "outputs": [],
   "source": [
    "denmark = df.screen_number[df.country_name == 'Denmark']"
   ]
  },
  {
   "cell_type": "code",
   "execution_count": 26,
   "metadata": {
    "collapsed": true
   },
   "outputs": [],
   "source": [
    "netherlands = df.screen_number[df.country_name == 'Netherlands']"
   ]
  },
  {
   "cell_type": "code",
   "execution_count": 27,
   "metadata": {
    "collapsed": false
   },
   "outputs": [
    {
     "data": {
      "text/plain": [
       "count    235.000000\n",
       "mean       4.336170\n",
       "std        6.625657\n",
       "min        1.000000\n",
       "25%        1.000000\n",
       "50%        2.000000\n",
       "75%        5.000000\n",
       "max       70.000000\n",
       "Name: screen_number, dtype: float64"
      ]
     },
     "execution_count": 27,
     "metadata": {},
     "output_type": "execute_result"
    }
   ],
   "source": [
    "denmark.describe()"
   ]
  },
  {
   "cell_type": "code",
   "execution_count": 28,
   "metadata": {
    "collapsed": false
   },
   "outputs": [
    {
     "data": {
      "text/plain": [
       "count    36.000000\n",
       "mean      5.222222\n",
       "std       6.436996\n",
       "min       1.000000\n",
       "25%       1.000000\n",
       "50%       4.000000\n",
       "75%       5.000000\n",
       "max      33.000000\n",
       "Name: screen_number, dtype: float64"
      ]
     },
     "execution_count": 28,
     "metadata": {},
     "output_type": "execute_result"
    }
   ],
   "source": [
    "netherlands.describe()"
   ]
  },
  {
   "cell_type": "code",
   "execution_count": 29,
   "metadata": {
    "collapsed": false
   },
   "outputs": [
    {
     "data": {
      "text/plain": [
       "Ttest_indResult(statistic=-0.74993343732629603, pvalue=0.45395017887387645)"
      ]
     },
     "execution_count": 29,
     "metadata": {},
     "output_type": "execute_result"
    }
   ],
   "source": [
    "scipy.stats.ttest_ind(denmark, netherlands)"
   ]
  },
  {
   "cell_type": "code",
   "execution_count": 30,
   "metadata": {
    "collapsed": true
   },
   "outputs": [],
   "source": [
    "usa = df.screen_number[df.country_name == 'United States']"
   ]
  },
  {
   "cell_type": "code",
   "execution_count": 31,
   "metadata": {
    "collapsed": false
   },
   "outputs": [
    {
     "data": {
      "text/plain": [
       "Ttest_indResult(statistic=-1.0482353914861817, pvalue=0.29708252424243503)"
      ]
     },
     "execution_count": 31,
     "metadata": {},
     "output_type": "execute_result"
    }
   ],
   "source": [
    "scipy.stats.ttest_ind(usa, netherlands)"
   ]
  },
  {
   "cell_type": "code",
   "execution_count": 32,
   "metadata": {
    "collapsed": true
   },
   "outputs": [],
   "source": [
    "# Cannot reject null hypothesis that average screen_number between 2 countries are equal -> Assume they are equal"
   ]
  },
  {
   "cell_type": "code",
   "execution_count": 33,
   "metadata": {
    "collapsed": true
   },
   "outputs": [],
   "source": [
    "usa2 = df.total_time[df.country_name == 'United States']\n",
    "netherlands2 = df.total_time[df.country_name == 'Netherlands']\n",
    "denmark2 = df.total_time[df.country_name == 'Denmark']"
   ]
  },
  {
   "cell_type": "code",
   "execution_count": 34,
   "metadata": {
    "collapsed": false
   },
   "outputs": [
    {
     "name": "stdout",
     "output_type": "stream",
     "text": [
      "Ttest_indResult(statistic=-1.2749483619202515, pvalue=0.20531158631768487)\n",
      "Ttest_indResult(statistic=0.36871647799245033, pvalue=0.71262908834154959)\n",
      "Ttest_indResult(statistic=-0.76686406710650779, pvalue=0.44376943634919463)\n"
     ]
    }
   ],
   "source": [
    "print(scipy.stats.ttest_ind(usa2, netherlands2))\n",
    "print(scipy.stats.ttest_ind(denmark2, netherlands2))\n",
    "print(scipy.stats.ttest_ind(usa2, denmark2))"
   ]
  },
  {
   "cell_type": "code",
   "execution_count": 35,
   "metadata": {
    "collapsed": false
   },
   "outputs": [
    {
     "data": {
      "text/plain": [
       "count    235.000000\n",
       "mean       3.939504\n",
       "std       23.186172\n",
       "min        0.000000\n",
       "25%        0.366667\n",
       "50%        0.983333\n",
       "75%        1.783333\n",
       "max      282.600000\n",
       "Name: total_time, dtype: float64"
      ]
     },
     "execution_count": 35,
     "metadata": {},
     "output_type": "execute_result"
    }
   ],
   "source": [
    "(denmark2 / 60.).describe()"
   ]
  },
  {
   "cell_type": "markdown",
   "metadata": {},
   "source": [
    "# Distribution of score (deprecated)"
   ]
  },
  {
   "cell_type": "code",
   "execution_count": 20,
   "metadata": {
    "collapsed": false
   },
   "outputs": [
    {
     "data": {
      "text/plain": [
       "(array([ 334.,  169.,   96.,   59.,   60.,   35.,   24.,   18.,   18.,   80.]),\n",
       " array([  0.,   1.,   2.,   3.,   4.,   5.,   6.,   7.,   8.,   9.,  10.]),\n",
       " <a list of 10 Patch objects>)"
      ]
     },
     "execution_count": 20,
     "metadata": {},
     "output_type": "execute_result"
    },
    {
     "data": {
      "image/png": "[encoded data removed]",
      "text/plain": [
       "<matplotlib.figure.Figure at 0xa2960d0>"
      ]
     },
     "metadata": {},
     "output_type": "display_data"
    }
   ],
   "source": [
    "plt.hist(df.screen_score)"
   ]
  },
  {
   "cell_type": "code",
   "execution_count": 21,
   "metadata": {
    "collapsed": false
   },
   "outputs": [
    {
     "data": {
      "text/plain": [
       "(array([ 251.,  170.,  130.,   88.,   66.,   29.,   27.,   19.,   19.,   94.]),\n",
       " array([  0.,   1.,   2.,   3.,   4.,   5.,   6.,   7.,   8.,   9.,  10.]),\n",
       " <a list of 10 Patch objects>)"
      ]
     },
     "execution_count": 21,
     "metadata": {},
     "output_type": "execute_result"
    },
    {
     "data": {
      "image/png": "[encoded data removed]",
      "text/plain": [
       "<matplotlib.figure.Figure at 0xa2cf470>"
      ]
     },
     "metadata": {},
     "output_type": "display_data"
    }
   ],
   "source": [
    "plt.hist(df.time_score)"
   ]
  },
  {
   "cell_type": "markdown",
   "metadata": {},
   "source": [
    "# Journey (deprecated)"
   ]
  },
  {
   "cell_type": "code",
   "execution_count": 36,
   "metadata": {
    "collapsed": false
   },
   "outputs": [
    {
     "data": {
      "text/html": [
       "<div>\n",
       "<table border=\"1\" class=\"dataframe\">\n",
       "  <thead>\n",
       "    <tr style=\"text-align: right;\">\n",
       "      <th></th>\n",
       "      <th>screens_visited</th>\n",
       "      <th>screen_number</th>\n",
       "      <th>first_time_stage</th>\n",
       "      <th>photo_viewer_stage</th>\n",
       "      <th>active_use_stage</th>\n",
       "      <th>beneficial_action_stage</th>\n",
       "    </tr>\n",
       "  </thead>\n",
       "  <tbody>\n",
       "    <tr>\n",
       "      <th>1</th>\n",
       "      <td>[UploadViewController, PhotoStreamViewController, PurchaseViewController, CouponModalViewController, UIAlertController]</td>\n",
       "      <td>5</td>\n",
       "      <td>0</td>\n",
       "      <td>1</td>\n",
       "      <td>1</td>\n",
       "      <td>1</td>\n",
       "    </tr>\n",
       "    <tr>\n",
       "      <th>2</th>\n",
       "      <td>[UIAlertController, EventPageViewController, PhotoStreamViewController, EventPageViewController, UIAlertController]</td>\n",
       "      <td>5</td>\n",
       "      <td>0</td>\n",
       "      <td>1</td>\n",
       "      <td>0</td>\n",
       "      <td>0</td>\n",
       "    </tr>\n",
       "    <tr>\n",
       "      <th>3</th>\n",
       "      <td>[UIAlertController, SupportViewController, MFMailComposeRemoteViewController]</td>\n",
       "      <td>3</td>\n",
       "      <td>0</td>\n",
       "      <td>0</td>\n",
       "      <td>0</td>\n",
       "      <td>0</td>\n",
       "    </tr>\n",
       "    <tr>\n",
       "      <th>4</th>\n",
       "      <td>[SupportViewController, PhotoStreamViewController]</td>\n",
       "      <td>2</td>\n",
       "      <td>0</td>\n",
       "      <td>1</td>\n",
       "      <td>0</td>\n",
       "      <td>0</td>\n",
       "    </tr>\n",
       "    <tr>\n",
       "      <th>5</th>\n",
       "      <td>[PhotoStreamViewController, PurchaseViewController, PhotoStreamViewController, PurchaseViewController, CouponModalViewController, UIAlertController]</td>\n",
       "      <td>6</td>\n",
       "      <td>0</td>\n",
       "      <td>2</td>\n",
       "      <td>0</td>\n",
       "      <td>2</td>\n",
       "    </tr>\n",
       "  </tbody>\n",
       "</table>\n",
       "</div>"
      ],
      "text/plain": [
       "                                                                                                                                                                           screens_visited  \\\n",
       "1                                      [UploadViewController, PhotoStreamViewController, PurchaseViewController, CouponModalViewController, UIAlertController]   \n",
       "2                                                 [UIAlertController, EventPageViewController, PhotoStreamViewController, EventPageViewController, UIAlertController]   \n",
       "3                                                                                                     [UIAlertController, SupportViewController, MFMailComposeRemoteViewController]   \n",
       "4                                                                                                                         [SupportViewController, PhotoStreamViewController]   \n",
       "5  [PhotoStreamViewController, PurchaseViewController, PhotoStreamViewController, PurchaseViewController, CouponModalViewController, UIAlertController]   \n",
       "\n",
       "   screen_number  first_time_stage  photo_viewer_stage  active_use_stage  \\\n",
       "1              5                 0                   1                 1   \n",
       "2              5                 0                   1                 0   \n",
       "3              3                 0                   0                 0   \n",
       "4              2                 0                   1                 0   \n",
       "5              6                 0                   2                 0   \n",
       "\n",
       "   beneficial_action_stage  \n",
       "1                        1  \n",
       "2                        0  \n",
       "3                        0  \n",
       "4                        0  \n",
       "5                        2  "
      ]
     },
     "execution_count": 36,
     "metadata": {},
     "output_type": "execute_result"
    }
   ],
   "source": [
    "df[['screens_visited','screen_number','first_time_stage', 'photo_viewer_stage', 'active_use_stage',\n",
    "       'beneficial_action_stage']].head(5)"
   ]
  },
  {
   "cell_type": "code",
   "execution_count": 37,
   "metadata": {
    "collapsed": false
   },
   "outputs": [
    {
     "name": "stdout",
     "output_type": "stream",
     "text": [
      "7\n",
      "9\n",
      "15\n",
      "5\n"
     ]
    }
   ],
   "source": [
    "print(max(df.first_time_stage))\n",
    "print(max(df.photo_viewer_stage))\n",
    "print(max(df.active_use_stage))\n",
    "print(max(df.beneficial_action_stage))"
   ]
  },
  {
   "cell_type": "code",
   "execution_count": 38,
   "metadata": {
    "collapsed": false
   },
   "outputs": [
    {
     "data": {
      "text/plain": [
       "0     465\n",
       "1      34\n",
       "3      10\n",
       "2       9\n",
       "4       4\n",
       "15      1\n",
       "11      1\n",
       "10      1\n",
       "7       1\n",
       "6       1\n",
       "5       1\n",
       "Name: active_use_stage, dtype: int64"
      ]
     },
     "execution_count": 38,
     "metadata": {},
     "output_type": "execute_result"
    }
   ],
   "source": [
    "df.active_use_stage.value_counts()"
   ]
  },
  {
   "cell_type": "code",
   "execution_count": 39,
   "metadata": {
    "collapsed": false
   },
   "outputs": [
    {
     "data": {
      "image/png": "[encoded data removed]",
      "text/plain": [
       "<matplotlib.figure.Figure at 0xc601dd0>"
      ]
     },
     "metadata": {},
     "output_type": "display_data"
    }
   ],
   "source": [
    "fig=plt.figure(figsize = [6, 6])\n",
    "\n",
    "ax1 = fig.add_subplot(211)\n",
    "sns.distplot(df[df['total_time'] < 400]['total_time'] / 60., ax=ax1, kde=False)\n",
    "ax1.set_xlabel('Total time of session length [minutes]')\n",
    "ax1.set_ylabel('Number of sessions')\n",
    "ax1.set_title('All sessions')\n",
    "\n",
    "ax2 = fig.add_subplot(212)\n",
    "sns.distplot(df['total_time'][df.active_use_stage > 1] / 60., ax=ax2, kde=False, bins = 10)\n",
    "ax2.set_xlabel('Total time of session length [minutes]')\n",
    "ax2.set_ylabel('Number of sessions')\n",
    "ax2.set_title('Sessions with high active_use_stage score')\n",
    "\n",
    "plt.tight_layout()"
   ]
  },
  {
   "cell_type": "code",
   "execution_count": 40,
   "metadata": {
    "collapsed": true
   },
   "outputs": [],
   "source": [
    "## Plot for the device_id with the most sessions"
   ]
  },
  {
   "cell_type": "code",
   "execution_count": 17,
   "metadata": {
    "collapsed": false
   },
   "outputs": [],
   "source": [
    "most_session_user = df.device_id.value_counts().keys()[0]\n",
    "df_most_use = df[df.device_id == most_session_user]"
   ]
  },
  {
   "cell_type": "code",
   "execution_count": 42,
   "metadata": {
    "collapsed": false
   },
   "outputs": [
    {
     "data": {
      "text/plain": [
       "<matplotlib.legend.Legend at 0xc7eae10>"
      ]
     },
     "execution_count": 42,
     "metadata": {},
     "output_type": "execute_result"
    },
    {
     "data": {
      "image/png": "[encoded data removed]",
      "text/plain": [
       "<matplotlib.figure.Figure at 0xb49f5b0>"
      ]
     },
     "metadata": {},
     "output_type": "display_data"
    }
   ],
   "source": [
    "plt.plot(df_most_use.time_formatted, df_most_use.first_time_stage, 'r')\n",
    "plt.plot(df_most_use.time_formatted, df_most_use.photo_viewer_stage, 'g')\n",
    "plt.plot(df_most_use.time_formatted, df_most_use.active_use_stage, 'b')\n",
    "plt.plot(df_most_use.time_formatted, df_most_use.beneficial_action_stage, 'c')\n",
    "ax=plt.gca()\n",
    "plt.xticks(rotation=25)\n",
    "ax.xaxis.set_major_formatter(mdates.DateFormatter('%Y-%m-%d %H:00'))\n",
    "plt.legend()"
   ]
  },
  {
   "cell_type": "markdown",
   "metadata": {},
   "source": [
    "# NEW FKING IDEA!"
   ]
  },
  {
   "cell_type": "markdown",
   "metadata": {},
   "source": [
    "Lets try to know a few information first:"
   ]
  },
  {
   "cell_type": "markdown",
   "metadata": {
    "collapsed": true
   },
   "source": [
    "1. max interaction per screen: 398\n",
    "1. max number of screen per session: 70\n",
    "1. remove swipe: done\n",
    "1. deal with 1 screen high time: ???"
   ]
  },
  {
   "cell_type": "code",
   "execution_count": 161,
   "metadata": {
    "collapsed": true
   },
   "outputs": [],
   "source": [
    "df.to_csv('test_file_6_pages.csv') # Run topic modelling on BigML"
   ]
  },
  {
   "cell_type": "code",
   "execution_count": 170,
   "metadata": {
    "collapsed": true
   },
   "outputs": [],
   "source": [
    "df[['device_id','interaction_information']].to_csv('test_file_6_pages_just_interaction_information.csv')"
   ]
  },
  {
   "cell_type": "code",
   "execution_count": 5,
   "metadata": {
    "collapsed": true
   },
   "outputs": [],
   "source": [
    "# BigML doesn't provide anything useful"
   ]
  },
  {
   "cell_type": "code",
   "execution_count": 15,
   "metadata": {
    "collapsed": true
   },
   "outputs": [],
   "source": [
    "first_screen = df['screens_visited'].apply(lambda x: x[0])"
   ]
  },
  {
   "cell_type": "markdown",
   "metadata": {},
   "source": [
    "# NOW IM ONLY WORKING WITH IOS DATASET"
   ]
  },
  {
   "cell_type": "code",
   "execution_count": 66,
   "metadata": {
    "collapsed": false
   },
   "outputs": [
    {
     "data": {
      "image/png": "[encoded data removed]",
      "text/plain": [
       "<matplotlib.figure.Figure at 0x135d86b0>"
      ]
     },
     "metadata": {},
     "output_type": "display_data"
    }
   ],
   "source": [
    "plot_time_vs_screen_vs_interaction(df_ios)"
   ]
  },
  {
   "cell_type": "code",
   "execution_count": 65,
   "metadata": {
    "collapsed": false
   },
   "outputs": [
    {
     "data": {
      "image/png": "[encoded data removed]",
      "text/plain": [
       "<matplotlib.figure.Figure at 0x132284b0>"
      ]
     },
     "metadata": {},
     "output_type": "display_data"
    }
   ],
   "source": [
    "plot_time_vs_screen_vs_interaction(df_no_ios)"
   ]
  },
  {
   "cell_type": "code",
   "execution_count": 28,
   "metadata": {
    "collapsed": false,
    "scrolled": true
   },
   "outputs": [
    {
     "data": {
      "image/png": "[encoded data removed]",
      "text/plain": [
       "<matplotlib.figure.Figure at 0x1138fa10>"
      ]
     },
     "metadata": {},
     "output_type": "display_data"
    }
   ],
   "source": [
    "plot_time_vs_screen_vs_interaction(df_most_use)"
   ]
  },
  {
   "cell_type": "code",
   "execution_count": null,
   "metadata": {
    "collapsed": true
   },
   "outputs": [],
   "source": []
  },
  {
   "cell_type": "code",
   "execution_count": null,
   "metadata": {
    "collapsed": true
   },
   "outputs": [],
   "source": []
  },
  {
   "cell_type": "code",
   "execution_count": null,
   "metadata": {
    "collapsed": true
   },
   "outputs": [],
   "source": []
  }
 ],
 "metadata": {
  "kernelspec": {
   "display_name": "Python 3",
   "language": "python",
   "name": "python3"
  },
  "language_info": {
   "codemirror_mode": {
    "name": "ipython",
    "version": 3
   },
   "file_extension": ".py",
   "mimetype": "text/x-python",
   "name": "python",
   "nbconvert_exporter": "python",
   "pygments_lexer": "ipython3",
   "version": "3.5.2"
  }
 },
 "nbformat": 4,
 "nbformat_minor": 0
}
